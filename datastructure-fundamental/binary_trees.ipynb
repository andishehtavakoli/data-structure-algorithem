{
 "cells": [
  {
   "cell_type": "markdown",
   "id": "92d53b8e",
   "metadata": {},
   "source": [
    "## General Tree: Difine Levels: Method 1: "
   ]
  },
  {
   "cell_type": "code",
   "execution_count": 1,
   "id": "9ae50f10",
   "metadata": {},
   "outputs": [],
   "source": [
    "class TreeNode:\n",
    "    def __init__(self, data):\n",
    "        self.data = data\n",
    "        self.childrean = []\n",
    "        self.parent = None\n",
    "        self.level = 1\n",
    "        \n",
    "        \n",
    "    def add_child(self, child):\n",
    "        self.childrean.append(child)\n",
    "        child.parent = self\n",
    "        child.level = child.parent.level + 1\n",
    "        \n",
    "        \n",
    "    def print_tree(self):\n",
    "        space = \"   \"*self.level\n",
    "        prefix = space + \"|--\" if self.parent else \"|--\"\n",
    "        print(prefix, self.data)\n",
    "        for child in self.childrean:\n",
    "            child.print_tree()\n",
    "        "
   ]
  },
  {
   "cell_type": "code",
   "execution_count": 2,
   "id": "f9fbf4b4",
   "metadata": {},
   "outputs": [],
   "source": [
    "def create_tree():\n",
    "    root = TreeNode('Electronic')\n",
    "    \n",
    "    phone = TreeNode('phone')\n",
    "    root.add_child(phone)\n",
    "    phone.add_child(TreeNode('iphone'))\n",
    "    phone.add_child(TreeNode('sumsung'))\n",
    "    phone.add_child(TreeNode('LG'))\n",
    "    \n",
    "    television = TreeNode('Television')\n",
    "    root.add_child(television)\n",
    "    television.add_child(TreeNode('LG'))\n",
    "    television.add_child(TreeNode('sumsung'))\n",
    "    \n",
    "    laptop = TreeNode('laptop')\n",
    "    root.add_child(laptop)\n",
    "    laptop.add_child(TreeNode('apple'))\n",
    "    laptop.add_child(TreeNode('asus'))\n",
    "    laptop.add_child(TreeNode('dell'))\n",
    "       \n",
    "    \n",
    "    return root"
   ]
  },
  {
   "cell_type": "code",
   "execution_count": 3,
   "id": "48addb75",
   "metadata": {},
   "outputs": [],
   "source": [
    "root = create_tree()"
   ]
  },
  {
   "cell_type": "code",
   "execution_count": 4,
   "id": "a52779d7",
   "metadata": {},
   "outputs": [
    {
     "data": {
      "text/plain": [
       "<__main__.TreeNode at 0x10490d950>"
      ]
     },
     "execution_count": 4,
     "metadata": {},
     "output_type": "execute_result"
    }
   ],
   "source": [
    "root"
   ]
  },
  {
   "cell_type": "code",
   "execution_count": 5,
   "id": "5f75eeb0",
   "metadata": {},
   "outputs": [
    {
     "name": "stdout",
     "output_type": "stream",
     "text": [
      "|-- Electronic\n",
      "      |-- phone\n",
      "         |-- iphone\n",
      "         |-- sumsung\n",
      "         |-- LG\n",
      "      |-- Television\n",
      "         |-- LG\n",
      "         |-- sumsung\n",
      "      |-- laptop\n",
      "         |-- apple\n",
      "         |-- asus\n",
      "         |-- dell\n"
     ]
    }
   ],
   "source": [
    "root.print_tree()"
   ]
  },
  {
   "cell_type": "code",
   "execution_count": 6,
   "id": "e21c26fe",
   "metadata": {},
   "outputs": [
    {
     "data": {
      "text/plain": [
       "[<__main__.TreeNode at 0x10490aa50>,\n",
       " <__main__.TreeNode at 0x10490a1d0>,\n",
       " <__main__.TreeNode at 0x104909310>]"
      ]
     },
     "execution_count": 6,
     "metadata": {},
     "output_type": "execute_result"
    }
   ],
   "source": [
    "root.childrean"
   ]
  },
  {
   "cell_type": "code",
   "execution_count": 7,
   "id": "50999a82",
   "metadata": {},
   "outputs": [
    {
     "data": {
      "text/plain": [
       "'Electronic'"
      ]
     },
     "execution_count": 7,
     "metadata": {},
     "output_type": "execute_result"
    }
   ],
   "source": [
    "root.childrean[0].parent.data"
   ]
  },
  {
   "cell_type": "code",
   "execution_count": 8,
   "id": "e3ce98e0",
   "metadata": {},
   "outputs": [
    {
     "data": {
      "text/plain": [
       "'phone'"
      ]
     },
     "execution_count": 8,
     "metadata": {},
     "output_type": "execute_result"
    }
   ],
   "source": [
    "root.childrean[0].data"
   ]
  },
  {
   "cell_type": "code",
   "execution_count": 9,
   "id": "8120dacc",
   "metadata": {},
   "outputs": [
    {
     "data": {
      "text/plain": [
       "'Television'"
      ]
     },
     "execution_count": 9,
     "metadata": {},
     "output_type": "execute_result"
    }
   ],
   "source": [
    "root.childrean[1].data"
   ]
  },
  {
   "cell_type": "code",
   "execution_count": 10,
   "id": "7e395da0",
   "metadata": {},
   "outputs": [
    {
     "data": {
      "text/plain": [
       "'laptop'"
      ]
     },
     "execution_count": 10,
     "metadata": {},
     "output_type": "execute_result"
    }
   ],
   "source": [
    "root.childrean[2].data"
   ]
  },
  {
   "cell_type": "markdown",
   "id": "3340eaa3",
   "metadata": {},
   "source": [
    "## General Tree: Difine Levels: Method 2: "
   ]
  },
  {
   "cell_type": "code",
   "execution_count": 135,
   "id": "b0e684e3",
   "metadata": {},
   "outputs": [],
   "source": [
    "class TreeNode:\n",
    "    def __init__(self, data):\n",
    "        self.data = data\n",
    "        self.childrean = []\n",
    "        self.parent = None\n",
    "        \n",
    "        \n",
    "        \n",
    "    def add_child(self, child):\n",
    "        self.childrean.append(child)\n",
    "        child.parent = self\n",
    "        \n",
    "        \n",
    "    def get_lvl(self):\n",
    "        level = 0\n",
    "        p = self.parent\n",
    "        while p:\n",
    "            level += 1\n",
    "            p = p.parent\n",
    "        return level\n",
    "    \n",
    "      \n",
    "    def search_child(self, key):\n",
    "        print(self.data)\n",
    "        print(key)\n",
    "        print('$$$$$$$$$$$$$$$$$')\n",
    "        \n",
    "        if self.data == key:\n",
    "            return True\n",
    "        \n",
    "        else:\n",
    "        \n",
    "            for child in self.childrean:\n",
    "                found = child.search_child(key)\n",
    "                if found:\n",
    "                    return True\n",
    "\n",
    "        \n",
    "            return False \n",
    "        \n",
    "        \n",
    "    def height(self):\n",
    "        if len(self.children) == 0:\n",
    "            return 0\n",
    "        \n",
    "        max_heigth = -1\n",
    "        for child in self.children:\n",
    "            max_height = max(max_height , child.height())\n",
    "        return max_heigth + 1\n",
    "    \n",
    "\n",
    "        \n",
    "    def print_tree(self):\n",
    "        space = \"   \"*self.get_lvl()\n",
    "        prefix = space + \"|--\" if self.parent else \"|--\"\n",
    "        print(prefix, self.data)\n",
    "        for child in self.childrean:\n",
    "            child.print_tree()\n",
    "            \n",
    "            \n",
    "    def isbinery(self):\n",
    "        if len(self.childrean) > 2:\n",
    "            return False\n",
    "        \n",
    "        elif len(self.childrean) == 0:\n",
    "            return True\n",
    "        \n",
    "        else:\n",
    "            for child in self.childrean:\n",
    "                if child.isbinery():\n",
    "                    return True\n",
    "        return True\n",
    "    "
   ]
  },
  {
   "cell_type": "code",
   "execution_count": 136,
   "id": "a076cb95",
   "metadata": {},
   "outputs": [],
   "source": [
    "def create_tree():\n",
    "    root = TreeNode('Electronic')\n",
    "    \n",
    "    phone = TreeNode('phone')\n",
    "    \n",
    "    phone.add_child(TreeNode('iphone'))\n",
    "    phone.add_child(TreeNode('sumsung'))\n",
    "    phone.add_child(TreeNode('LG'))\n",
    "    \n",
    "    television = TreeNode('Television')    \n",
    "    television.add_child(TreeNode('LG'))\n",
    "    television.add_child(TreeNode('sumsung'))\n",
    "\n",
    "    laptop = TreeNode('laptop')    \n",
    "    laptop.add_child(TreeNode('apple'))\n",
    "    laptop.add_child(TreeNode('asus'))\n",
    "    laptop.add_child(TreeNode('dell'))\n",
    "    laptop.add_child(TreeNode('MSI'))\n",
    "    \n",
    "    root.add_child(phone)\n",
    "    root.add_child(television)\n",
    "    root.add_child(laptop)\n",
    "       \n",
    "    \n",
    "    return root"
   ]
  },
  {
   "cell_type": "code",
   "execution_count": 137,
   "id": "c0ae8628",
   "metadata": {},
   "outputs": [],
   "source": [
    "root = create_tree()"
   ]
  },
  {
   "cell_type": "code",
   "execution_count": 138,
   "id": "10a420b6",
   "metadata": {},
   "outputs": [
    {
     "name": "stdout",
     "output_type": "stream",
     "text": [
      "|-- Electronic\n",
      "   |-- phone\n",
      "      |-- iphone\n",
      "      |-- sumsung\n",
      "      |-- LG\n",
      "   |-- Television\n",
      "      |-- LG\n",
      "      |-- sumsung\n",
      "   |-- laptop\n",
      "      |-- apple\n",
      "      |-- asus\n",
      "      |-- dell\n",
      "      |-- MSI\n"
     ]
    }
   ],
   "source": [
    "root.print_tree()"
   ]
  },
  {
   "cell_type": "code",
   "execution_count": 139,
   "id": "c6bfa631",
   "metadata": {},
   "outputs": [
    {
     "data": {
      "text/plain": [
       "False"
      ]
     },
     "execution_count": 139,
     "metadata": {},
     "output_type": "execute_result"
    }
   ],
   "source": [
    "root.isbinery()"
   ]
  },
  {
   "cell_type": "code",
   "execution_count": 140,
   "id": "37326140",
   "metadata": {},
   "outputs": [
    {
     "name": "stdout",
     "output_type": "stream",
     "text": [
      "Electronic\n",
      "dell\n",
      "$$$$$$$$$$$$$$$$$\n",
      "phone\n",
      "dell\n",
      "$$$$$$$$$$$$$$$$$\n",
      "iphone\n",
      "dell\n",
      "$$$$$$$$$$$$$$$$$\n",
      "sumsung\n",
      "dell\n",
      "$$$$$$$$$$$$$$$$$\n",
      "LG\n",
      "dell\n",
      "$$$$$$$$$$$$$$$$$\n",
      "Television\n",
      "dell\n",
      "$$$$$$$$$$$$$$$$$\n",
      "LG\n",
      "dell\n",
      "$$$$$$$$$$$$$$$$$\n",
      "sumsung\n",
      "dell\n",
      "$$$$$$$$$$$$$$$$$\n",
      "laptop\n",
      "dell\n",
      "$$$$$$$$$$$$$$$$$\n",
      "apple\n",
      "dell\n",
      "$$$$$$$$$$$$$$$$$\n",
      "asus\n",
      "dell\n",
      "$$$$$$$$$$$$$$$$$\n",
      "dell\n",
      "dell\n",
      "$$$$$$$$$$$$$$$$$\n"
     ]
    },
    {
     "data": {
      "text/plain": [
       "True"
      ]
     },
     "execution_count": 140,
     "metadata": {},
     "output_type": "execute_result"
    }
   ],
   "source": [
    "root.search_child('dell')"
   ]
  },
  {
   "cell_type": "markdown",
   "id": "4c881513",
   "metadata": {},
   "source": [
    "<img src='https://iq.opengenus.org/content/images/2022/07/Strict-Binary-Tree--1-.png'>"
   ]
  },
  {
   "cell_type": "markdown",
   "id": "b7c8b62b",
   "metadata": {},
   "source": [
    "## Binery Tree Class"
   ]
  },
  {
   "cell_type": "code",
   "execution_count": 107,
   "id": "d15fb89d",
   "metadata": {},
   "outputs": [],
   "source": [
    "class BineryTree:    \n",
    "    def __init__(self, data):\n",
    "        self.data = data\n",
    "        self.left = None\n",
    "        self.right = None\n",
    "        \n",
    "        \n",
    "    def add_child(self, data):\n",
    "        if type(data) != BineryTree:\n",
    "            data = BineryTree(data)                   \n",
    "        \n",
    "        if self.left == None:\n",
    "            self.left = data\n",
    "            \n",
    "        elif self.right == None:\n",
    "            self.right = data\n",
    "            \n",
    "        else:\n",
    "            self.left.add_child(data)\n",
    "            \n",
    "            \n",
    "def isstric(root):\n",
    "        if root == None:\n",
    "            return True\n",
    "        \n",
    "        if root.left == None and root.right == None:\n",
    "            return True\n",
    "        \n",
    "        \n",
    "        if root.left is not None and root.right is not None:\n",
    "            return isstric(root.left) and isstric(root.right)\n",
    "            \n",
    "        return False\n",
    "    \n",
    "\n",
    "def count_node(root):\n",
    "    if root is None:\n",
    "        return 0\n",
    "    \n",
    "    return (1 + count_node(root.left) + count_node(root.right))\n",
    "\n",
    "def iscomplete(root, index, number_nods):\n",
    "    if root is None:\n",
    "        return True\n",
    "    \n",
    "    if index >= number_nodes:\n",
    "        return False\n",
    "    \n",
    "    return iscomplete(root.left, 2*index+1, number_nodes) and iscomplete(root.right, 2*index+2, number_nodes)\n",
    "                  "
   ]
  },
  {
   "cell_type": "code",
   "execution_count": 140,
   "id": "8c92f91d",
   "metadata": {},
   "outputs": [],
   "source": [
    "root = BineryTree(9)\n",
    "root.add_child(3)\n",
    "root.add_child(4)\n",
    "root.add_child(5)\n",
    "root.add_child(8)\n",
    "root.add_child(7)"
   ]
  },
  {
   "cell_type": "code",
   "execution_count": 141,
   "id": "48db6b58",
   "metadata": {},
   "outputs": [
    {
     "data": {
      "text/plain": [
       "9"
      ]
     },
     "execution_count": 141,
     "metadata": {},
     "output_type": "execute_result"
    }
   ],
   "source": [
    "root.data"
   ]
  },
  {
   "cell_type": "code",
   "execution_count": 142,
   "id": "c1f5959f",
   "metadata": {},
   "outputs": [
    {
     "data": {
      "text/plain": [
       "3"
      ]
     },
     "execution_count": 142,
     "metadata": {},
     "output_type": "execute_result"
    }
   ],
   "source": [
    "root.left.data"
   ]
  },
  {
   "cell_type": "code",
   "execution_count": 143,
   "id": "77efe5fe",
   "metadata": {},
   "outputs": [
    {
     "data": {
      "text/plain": [
       "4"
      ]
     },
     "execution_count": 143,
     "metadata": {},
     "output_type": "execute_result"
    }
   ],
   "source": [
    "root.right.data"
   ]
  },
  {
   "cell_type": "code",
   "execution_count": 144,
   "id": "4f7954fb",
   "metadata": {},
   "outputs": [
    {
     "data": {
      "text/plain": [
       "5"
      ]
     },
     "execution_count": 144,
     "metadata": {},
     "output_type": "execute_result"
    }
   ],
   "source": [
    "root.left.left.data"
   ]
  },
  {
   "cell_type": "code",
   "execution_count": 145,
   "id": "c130924e",
   "metadata": {},
   "outputs": [
    {
     "data": {
      "text/plain": [
       "8"
      ]
     },
     "execution_count": 145,
     "metadata": {},
     "output_type": "execute_result"
    }
   ],
   "source": [
    "root.left.right.data"
   ]
  },
  {
   "cell_type": "code",
   "execution_count": 146,
   "id": "9b29618a",
   "metadata": {},
   "outputs": [
    {
     "data": {
      "text/plain": [
       "7"
      ]
     },
     "execution_count": 146,
     "metadata": {},
     "output_type": "execute_result"
    }
   ],
   "source": [
    "root.left.left.left.data"
   ]
  },
  {
   "cell_type": "code",
   "execution_count": 147,
   "id": "ab1ece9f",
   "metadata": {},
   "outputs": [
    {
     "data": {
      "text/plain": [
       "False"
      ]
     },
     "execution_count": 147,
     "metadata": {},
     "output_type": "execute_result"
    }
   ],
   "source": [
    "isstric(root)"
   ]
  },
  {
   "cell_type": "code",
   "execution_count": 148,
   "id": "251a7606",
   "metadata": {},
   "outputs": [
    {
     "data": {
      "text/plain": [
       "6"
      ]
     },
     "execution_count": 148,
     "metadata": {},
     "output_type": "execute_result"
    }
   ],
   "source": [
    "count_node(root)"
   ]
  },
  {
   "cell_type": "code",
   "execution_count": 149,
   "id": "7b31c179",
   "metadata": {},
   "outputs": [],
   "source": [
    "number_nodes = count_node(root)\n",
    "index = 0"
   ]
  },
  {
   "cell_type": "code",
   "execution_count": 150,
   "id": "5f4c1c38",
   "metadata": {},
   "outputs": [
    {
     "data": {
      "text/plain": [
       "False"
      ]
     },
     "execution_count": 150,
     "metadata": {},
     "output_type": "execute_result"
    }
   ],
   "source": [
    "iscomplete(root, index, number_nodes)"
   ]
  },
  {
   "cell_type": "markdown",
   "id": "af6b8346",
   "metadata": {},
   "source": [
    "## Binary Tree 3 Types Traversal Example"
   ]
  },
  {
   "cell_type": "markdown",
   "id": "cea601b5",
   "metadata": {},
   "source": [
    "<img src='https://media.geeksforgeeks.org/wp-content/cdn-uploads/Preorder-from-Inorder-and-Postorder-traversals.jpg'>"
   ]
  },
  {
   "cell_type": "markdown",
   "id": "a18eb02f",
   "metadata": {},
   "source": [
    "## Binary Serach Tree"
   ]
  },
  {
   "cell_type": "code",
   "execution_count": 159,
   "id": "3a9f316c",
   "metadata": {},
   "outputs": [],
   "source": [
    "class Binary_search_tree:\n",
    "    def __init__(self, data):\n",
    "        self.data = data\n",
    "        self.left = None\n",
    "        self.right = None\n",
    "        \n",
    "\n",
    "    def search(self, val):\n",
    "        \n",
    "        if self.data == val:\n",
    "            return True\n",
    "        \n",
    "        elif self.data > val:\n",
    "            if self.left:\n",
    "                return self.left.search(val)\n",
    "            else:\n",
    "                return False\n",
    "                    \n",
    "        else:\n",
    "            if self.right:\n",
    "                return self.right.search(val)\n",
    "            else:\n",
    "                return False\n",
    "                \n",
    "        \n",
    "        \n",
    "    def add(self, val):\n",
    "        if self.data == val:\n",
    "            return\n",
    "        \n",
    "        elif self.data > val:\n",
    "            if self.left == None:\n",
    "                self.left = Binary_search_tree(val)\n",
    "                \n",
    "            else:\n",
    "                self.left.add(val)\n",
    "                \n",
    "        else:\n",
    "            if self.right == None:\n",
    "                self.right = Binary_search_tree(val)\n",
    "                \n",
    "            else:\n",
    "                self.right.add(val)\n",
    "                \n",
    "                \n",
    "    def InorderTraversal(self):\n",
    "        elements = []\n",
    "        if self.left:\n",
    "            elements += self.left.InorderTraversal()\n",
    "        elements.append(self.data)\n",
    "        \n",
    "        if self.right:\n",
    "            elements += self.right.InorderTraversal()\n",
    "        return elements\n",
    "    \n",
    "    def PreOrderTraversal(self):\n",
    "        elements = []\n",
    "        elements.append(self.data)\n",
    "        \n",
    "        if self.left:\n",
    "            elements += self.left.PreOrderTraversal()\n",
    "            \n",
    "        if self.right:\n",
    "            elements += self.right.PreOrderTraversal()\n",
    "        return elements\n",
    "    \n",
    "    def PostOrderTraversal(self):\n",
    "        elements = []\n",
    "        if self.left:\n",
    "            elements += self.left.PostOrderTraversal()\n",
    "            \n",
    "        if self.right:\n",
    "            elements += self.right.PostOrderTraversal()\n",
    "            \n",
    "        elements.append(self.data)\n",
    "        return elements\n",
    "    \n",
    "    def reverse(self):\n",
    "        self.right, self.left = self.left, self.right\n",
    "        if self.left:\n",
    "            self.left.reverse()\n",
    "            \n",
    "        if self.right:\n",
    "            self.\n",
    "        \n",
    "            \n",
    "        "
   ]
  },
  {
   "attachments": {
    "Screenshot%202024-05-22%20at%201.08.11%E2%80%AFPM.png": {
     "image/png": "[encoded data removed]"
    }
   },
   "cell_type": "markdown",
   "id": "37f0d37f",
   "metadata": {},
   "source": [
    "![Screenshot%202024-05-22%20at%201.08.11%E2%80%AFPM.png](attachment:Screenshot%202024-05-22%20at%201.08.11%E2%80%AFPM.png)"
   ]
  },
  {
   "cell_type": "code",
   "execution_count": 160,
   "id": "f44e73d8",
   "metadata": {},
   "outputs": [],
   "source": [
    "elements = [15, 12, 27, 7, 14, 20, 88, 23]\n",
    "root = Binary_search_tree(elements[0])"
   ]
  },
  {
   "cell_type": "code",
   "execution_count": 161,
   "id": "42be20fd",
   "metadata": {},
   "outputs": [
    {
     "data": {
      "text/plain": [
       "15"
      ]
     },
     "execution_count": 161,
     "metadata": {},
     "output_type": "execute_result"
    }
   ],
   "source": [
    "root.data"
   ]
  },
  {
   "cell_type": "code",
   "execution_count": 162,
   "id": "ae210885",
   "metadata": {},
   "outputs": [],
   "source": [
    "for i in elements[1:]:\n",
    "    root.add(i)"
   ]
  },
  {
   "cell_type": "code",
   "execution_count": 163,
   "id": "4e89e124",
   "metadata": {},
   "outputs": [
    {
     "data": {
      "text/plain": [
       "12"
      ]
     },
     "execution_count": 163,
     "metadata": {},
     "output_type": "execute_result"
    }
   ],
   "source": [
    "root.left.data"
   ]
  },
  {
   "cell_type": "code",
   "execution_count": 164,
   "id": "3f5c6c0c",
   "metadata": {},
   "outputs": [
    {
     "data": {
      "text/plain": [
       "27"
      ]
     },
     "execution_count": 164,
     "metadata": {},
     "output_type": "execute_result"
    }
   ],
   "source": [
    "root.right.data"
   ]
  },
  {
   "cell_type": "code",
   "execution_count": 165,
   "id": "1eb6bcf8",
   "metadata": {},
   "outputs": [
    {
     "data": {
      "text/plain": [
       "7"
      ]
     },
     "execution_count": 165,
     "metadata": {},
     "output_type": "execute_result"
    }
   ],
   "source": [
    "root.left.left.data"
   ]
  },
  {
   "cell_type": "code",
   "execution_count": 166,
   "id": "87bb988b",
   "metadata": {},
   "outputs": [
    {
     "data": {
      "text/plain": [
       "14"
      ]
     },
     "execution_count": 166,
     "metadata": {},
     "output_type": "execute_result"
    }
   ],
   "source": [
    "root.left.right.data"
   ]
  },
  {
   "cell_type": "code",
   "execution_count": 167,
   "id": "7a8ce67c",
   "metadata": {},
   "outputs": [
    {
     "data": {
      "text/plain": [
       "[7, 12, 14, 15, 20, 23, 27, 88]"
      ]
     },
     "execution_count": 167,
     "metadata": {},
     "output_type": "execute_result"
    }
   ],
   "source": [
    "root.InorderTraversal()"
   ]
  },
  {
   "cell_type": "code",
   "execution_count": 168,
   "id": "05736828",
   "metadata": {},
   "outputs": [],
   "source": [
    "root.reverse()"
   ]
  },
  {
   "cell_type": "code",
   "execution_count": 169,
   "id": "14e1d266",
   "metadata": {},
   "outputs": [
    {
     "data": {
      "text/plain": [
       "[88, 27, 23, 20, 15, 14, 12, 7]"
      ]
     },
     "execution_count": 169,
     "metadata": {},
     "output_type": "execute_result"
    }
   ],
   "source": [
    "root.InorderTraversal()"
   ]
  },
  {
   "cell_type": "code",
   "execution_count": 170,
   "id": "6f0a531d",
   "metadata": {},
   "outputs": [
    {
     "data": {
      "text/plain": [
       "[15, 27, 88, 20, 23, 12, 14, 7]"
      ]
     },
     "execution_count": 170,
     "metadata": {},
     "output_type": "execute_result"
    }
   ],
   "source": [
    "root.PreOrderTraversal()"
   ]
  },
  {
   "cell_type": "code",
   "execution_count": 171,
   "id": "ca45f9b0",
   "metadata": {},
   "outputs": [
    {
     "data": {
      "text/plain": [
       "[88, 23, 20, 27, 14, 7, 12, 15]"
      ]
     },
     "execution_count": 171,
     "metadata": {},
     "output_type": "execute_result"
    }
   ],
   "source": [
    "root.PostOrderTraversal()"
   ]
  },
  {
   "cell_type": "code",
   "execution_count": 147,
   "id": "67f23848",
   "metadata": {},
   "outputs": [
    {
     "data": {
      "text/plain": [
       "False"
      ]
     },
     "execution_count": 147,
     "metadata": {},
     "output_type": "execute_result"
    }
   ],
   "source": [
    "root.search(89)"
   ]
  },
  {
   "cell_type": "code",
   "execution_count": null,
   "id": "bc5f42f4",
   "metadata": {},
   "outputs": [],
   "source": []
  },
  {
   "cell_type": "code",
   "execution_count": null,
   "id": "51f54a84",
   "metadata": {},
   "outputs": [],
   "source": []
  },
  {
   "cell_type": "code",
   "execution_count": null,
   "id": "8c073138",
   "metadata": {},
   "outputs": [],
   "source": []
  }
 ],
 "metadata": {
  "kernelspec": {
   "display_name": "Python 3 (ipykernel)",
   "language": "python",
   "name": "python3"
  },
  "language_info": {
   "codemirror_mode": {
    "name": "ipython",
    "version": 3
   },
   "file_extension": ".py",
   "mimetype": "text/x-python",
   "name": "python",
   "nbconvert_exporter": "python",
   "pygments_lexer": "ipython3",
   "version": "3.11.7"
  }
 },
 "nbformat": 4,
 "nbformat_minor": 5
}
