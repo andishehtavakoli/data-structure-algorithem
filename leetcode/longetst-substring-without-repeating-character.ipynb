{
 "cells": [
  {
   "cell_type": "code",
   "execution_count": null,
   "metadata": {},
   "outputs": [],
   "source": [
    "class Solution:\n",
    "    def lengthOfLongestSubstring(self, s: str) -> int:\n",
    "       \n",
    "        _set = set()\n",
    "        i = j = 0\n",
    "        length = len(s)\n",
    "        length, _max = (length, 0) if length else (0, 0)\n",
    "\n",
    "        while j < length:\n",
    "            if s[j] not in _set:\n",
    "                _set.add(s[j])\n",
    "                if _max <= j - i:\n",
    "                    _max = j - i + 1\n",
    "                j += 1\n",
    "\n",
    "            else:\n",
    "                _set.remove(s[i])\n",
    "                i += 1\n",
    "\n",
    "        return _max\n",
    "            "
   ]
  }
 ],
 "metadata": {
  "kernelspec": {
   "display_name": "Python 3 (ipykernel)",
   "language": "python",
   "name": "python3"
  },
  "language_info": {
   "codemirror_mode": {
    "name": "ipython",
    "version": 3
   },
   "file_extension": ".py",
   "mimetype": "text/x-python",
   "name": "python",
   "nbconvert_exporter": "python",
   "pygments_lexer": "ipython3",
   "version": "3.11.9"
  }
 },
 "nbformat": 4,
 "nbformat_minor": 4
}
