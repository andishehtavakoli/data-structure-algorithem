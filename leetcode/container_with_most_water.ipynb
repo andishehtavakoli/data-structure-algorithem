{
 "cells": [
  {
   "cell_type": "code",
   "execution_count": null,
   "metadata": {},
   "outputs": [],
   "source": [
    "class Solution:\n",
    "    def maxArea(self, height: List[int]) -> int:\n",
    "        m = max(height)\n",
    "        left, right = 0, len(height)-1\n",
    "        res = 0\n",
    "                \n",
    "        while  left < right:\n",
    "            leftval, rightval = height[left], height[right]    \n",
    "            a = (right - left) * (min(leftval, rightval))\n",
    "            res = a  if a > res else res\n",
    "            \n",
    "            if leftval < rightval:\n",
    "                left += 1\n",
    "            else:\n",
    "                right -= 1\n",
    "                \n",
    "            if res > (right - left) * m:\n",
    "                break\n",
    "\n",
    "        return res\n",
    "        \n",
    "        \n",
    "        \n",
    "            \n",
    "            "
   ]
  },
  {
   "cell_type": "code",
   "execution_count": null,
   "metadata": {},
   "outputs": [],
   "source": []
  },
  {
   "cell_type": "code",
   "execution_count": null,
   "metadata": {},
   "outputs": [],
   "source": []
  }
 ],
 "metadata": {
  "language_info": {
   "name": "python"
  }
 },
 "nbformat": 4,
 "nbformat_minor": 2
}
