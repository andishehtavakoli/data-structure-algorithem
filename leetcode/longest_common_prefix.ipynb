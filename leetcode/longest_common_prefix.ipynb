{
 "cells": [
  {
   "cell_type": "code",
   "execution_count": null,
   "metadata": {},
   "outputs": [],
   "source": [
    "class Solution:\n",
    "    def longestCommonPrefix(self, strs: List[str]) -> str:"
   ]
  },
  {
   "cell_type": "code",
   "execution_count": null,
   "metadata": {},
   "outputs": [],
   "source": [
    "class Solution:\n",
    "    def longestCommonPrefix(self, lst: List[str]) -> str:\n",
    "    \n",
    "        if lst:\n",
    "            _str = min(lst)\n",
    "            for i in lst:\n",
    "                j = 0\n",
    "                while j < len(_str) and j < len(i):\n",
    "                    if _str[j] != i[j]:\n",
    "                        _str = _str[:j]\n",
    "                    j += 1\n",
    "            return _str    \n",
    "                    \n",
    "                \n",
    "                \n",
    "                \n",
    "    "
   ]
  },
  {
   "cell_type": "code",
   "execution_count": null,
   "metadata": {},
   "outputs": [],
   "source": [
    "def longestCommonPrefix(self, lst: List[str]) -> str:\n",
    "  lst.sort()\n",
    "        first = lst[0]\n",
    "        last = lst[-1]\n",
    "        j = 0\n",
    "        \n",
    "        while j < min(len(first), len(last)):\n",
    "            if first[j] != last[j]:\n",
    "                first= first[:j]\n",
    "            j += 1\n",
    "            \n",
    "        return first\n",
    "            "
   ]
  },
  {
   "cell_type": "code",
   "execution_count": null,
   "metadata": {},
   "outputs": [],
   "source": []
  },
  {
   "cell_type": "code",
   "execution_count": null,
   "metadata": {},
   "outputs": [],
   "source": []
  }
 ],
 "metadata": {
  "language_info": {
   "name": "python"
  }
 },
 "nbformat": 4,
 "nbformat_minor": 2
}
