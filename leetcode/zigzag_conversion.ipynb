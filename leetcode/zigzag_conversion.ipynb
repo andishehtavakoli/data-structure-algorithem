{
 "cells": [
  {
   "cell_type": "code",
   "execution_count": null,
   "metadata": {},
   "outputs": [],
   "source": [
    "class Solution(object):\n",
    "    def convert(self, s, numRows):\n",
    "        \"\"\"\n",
    "        :type s: str\n",
    "        :type numRows: int\n",
    "        :rtype: str\n",
    "        \"\"\"\n",
    "        if numRows == 1:\n",
    "            return s\n",
    "        flag = True\n",
    "        row = 0\n",
    "        m = [[] for i in range(numRows)]\n",
    "        for ch in s:\n",
    "            if flag:\n",
    "                m[row].append(ch)\n",
    "                row += 1\n",
    "            else:\n",
    "                row -= 1\n",
    "                m[row].append(ch)\n",
    "            \n",
    "            if row == numRows:\n",
    "                flag = not flag\n",
    "                row -= 1\n",
    "            \n",
    "            elif row == 0:\n",
    "                flag = not flag\n",
    "                row += 1\n",
    "        \n",
    "        return \"\".join([\"\".join(lst) for lst in m])"
   ]
  }
 ],
 "metadata": {
  "language_info": {
   "name": "python"
  }
 },
 "nbformat": 4,
 "nbformat_minor": 2
}
