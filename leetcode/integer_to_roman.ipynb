{
 "cells": [
  {
   "cell_type": "code",
   "execution_count": null,
   "metadata": {},
   "outputs": [],
   "source": [
    "def intToRoman(num: int) -> str:\n",
    "    symbols = {\n",
    "    1000: 'M', \n",
    "    900: 'CM', \n",
    "    500: 'D', \n",
    "    400: 'CD', \n",
    "    100: 'C', \n",
    "    90: 'XC', \n",
    "    50: 'L', \n",
    "    40: 'XL', \n",
    "    10: 'X', \n",
    "    9: 'IX', \n",
    "    5: 'V', \n",
    "    4: 'IV', \n",
    "    1: 'I'\n",
    "}\n",
    "    res = \"\"\n",
    "    \n",
    "    for k, v in symbols.items():\n",
    "        c = num//k \n",
    "        if c:\n",
    "            res = c * v\n",
    "            num %= k\n",
    "            if num == 0\n",
    "            break\n",
    "    return res\n",
    "        "
   ]
  }
 ],
 "metadata": {
  "language_info": {
   "name": "python"
  }
 },
 "nbformat": 4,
 "nbformat_minor": 2
}
