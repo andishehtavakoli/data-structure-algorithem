{
 "cells": [
  {
   "cell_type": "code",
   "execution_count": null,
   "metadata": {},
   "outputs": [],
   "source": [
    "class Solution:\n",
    "    def threeSumClosest(self, nums: List[int], target: int) -> int:\n",
    "        \n",
    "        nums.sort()\n",
    "        closest = float('-inf')\n",
    "        \n",
    "        for i in  range(len(nums)-2):\n",
    "            left, right = i + 1 , len(nums) - 1\n",
    "            if i > 0  and nums[i] == nums[i-1]:\n",
    "                continue\n",
    "            \n",
    "            while left < right:\n",
    "                curr = nums[i] + nums[left] + nums[right]\n",
    "                if curr == target:\n",
    "                    return curr\n",
    "                \n",
    "                if abs(curr - target) < abs(closest - target):\n",
    "                         \n",
    "                        closest = curr      \n",
    "                    \n",
    "                elif curr < target:\n",
    "                    left += 1\n",
    "                    \n",
    "                else:\n",
    "                    right -= 1\n",
    "                    \n",
    "        return closest\n",
    "        \n",
    "                \n",
    "        \n",
    "            \n",
    "            \n",
    "            "
   ]
  },
  {
   "cell_type": "code",
   "execution_count": null,
   "metadata": {},
   "outputs": [],
   "source": [
    "Input: nums = [-1,2,1,-4], target = 1\n",
    "Output: 2\n",
    "Explanation: The sum that is closest to the target is 2. (-1 + 2 + 1 = 2)."
   ]
  }
 ],
 "metadata": {
  "language_info": {
   "name": "python"
  }
 },
 "nbformat": 4,
 "nbformat_minor": 2
}
