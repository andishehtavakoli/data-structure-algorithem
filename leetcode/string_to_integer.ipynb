{
 "cells": [
  {
   "cell_type": "code",
   "execution_count": null,
   "metadata": {},
   "outputs": [],
   "source": [
    "class Solution:\n",
    "    def myAtoi(self, s: str) -> int:\n",
    "       \n",
    "        s = s.lstrip()\n",
    "        \n",
    "        n = len(s)\n",
    "        if not n:\n",
    "            return 0\n",
    "        \n",
    "        sign = 1\n",
    "        i = 0\n",
    "        \n",
    "\n",
    "        if s[i] == '+':\n",
    "            i += 1\n",
    "        elif s[i] == '-':\n",
    "            sign = -1\n",
    "            i += 1\n",
    "\n",
    "            \n",
    "        res = 0\n",
    "        while i < n:\n",
    "            curr = s[i]\n",
    "            if not curr.isdigit():\n",
    "                break\n",
    "            \n",
    "            res = res * 10 + int(curr)\n",
    "            i += 1\n",
    "\n",
    "        res *= sign   \n",
    "            \n",
    "        if res > 2 ** 31-1:\n",
    "            return 2 ** 31-1\n",
    "        elif res < -2 ** 31:\n",
    "            return -2** 31\n",
    "        else:\n",
    "            return res"
   ]
  }
 ],
 "metadata": {
  "kernelspec": {
   "display_name": "py311",
   "language": "python",
   "name": "python3"
  },
  "language_info": {
   "name": "python",
   "version": "3.11.9"
  }
 },
 "nbformat": 4,
 "nbformat_minor": 2
}
