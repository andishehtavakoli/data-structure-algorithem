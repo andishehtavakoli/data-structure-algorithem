{
 "cells": [
  {
   "cell_type": "code",
   "execution_count": 26,
   "id": "5c304b1f-4012-46ee-bf94-2c1d0000c63a",
   "metadata": {},
   "outputs": [],
   "source": [
    "class Solution:\n",
    "    def longestPalindrome(self, s: str) -> str:\n",
    "        n = len(s)\n",
    "        if n == 0:\n",
    "            return \" \"\n",
    "\n",
    "        res = \" \"\n",
    "        res_length = 0\n",
    "\n",
    "        for i in range(n):\n",
    "        # odd\n",
    "            l, r = i, i\n",
    "            while l >= 0 and r < n and s[r] == s[l]:\n",
    "                if r - l + 1 > res_length:\n",
    "                    res = s[l:r+1]\n",
    "                    res_length = r - l + 1\n",
    "                l -= 1\n",
    "                r += 1\n",
    "            \n",
    "            # even\n",
    "            l, r = i, i + 1\n",
    "            while l >= 0 and r < n and s[r] == s[l]:\n",
    "                if r - l + 1 > res_length:\n",
    "                    res = s[l:r+1]\n",
    "                    res_length = r - l + 1\n",
    "                l -= 1\n",
    "                r += 1\n",
    "\n",
    "        return res\n",
    "        \n",
    "\n",
    "\n",
    "\n",
    "             \n",
    "\n",
    "\n",
    "   "
   ]
  },
  {
   "cell_type": "code",
   "execution_count": 19,
   "id": "ae5c0e0f-f01a-440e-8524-20863e8443f9",
   "metadata": {},
   "outputs": [],
   "source": [
    "a = \"bacbad\""
   ]
  },
  {
   "cell_type": "code",
   "execution_count": null,
   "id": "1b87d2de-c1a3-43c3-9d44-c99d1d61c7ff",
   "metadata": {},
   "outputs": [],
   "source": []
  }
 ],
 "metadata": {
  "kernelspec": {
   "display_name": "Python 3 (ipykernel)",
   "language": "python",
   "name": "python3"
  },
  "language_info": {
   "codemirror_mode": {
    "name": "ipython",
    "version": 3
   },
   "file_extension": ".py",
   "mimetype": "text/x-python",
   "name": "python",
   "nbconvert_exporter": "python",
   "pygments_lexer": "ipython3",
   "version": "3.10.14"
  }
 },
 "nbformat": 4,
 "nbformat_minor": 5
}
