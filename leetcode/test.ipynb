{
 "cells": [
  {
   "cell_type": "code",
   "execution_count": 43,
   "id": "6e808df9-27f9-47fc-bdc2-ea5c6d53e4f3",
   "metadata": {},
   "outputs": [],
   "source": [
    "def longestPalindrome(s: str) -> str:\n",
    "\n",
    "    res = ''\n",
    "    lst = []\n",
    "\n",
    "    for i in range(len(s)-1):\n",
    "        left, right = s[i-1] , s[i+1]\n",
    "        if i == 0 and s[i] == right:\n",
    "            lst.append(s[i: i+1])\n",
    "        \n",
    "        elif left == right:\n",
    "            res = s[i-1: i+2]\n",
    "            \n",
    "        elif s[i] == left:\n",
    "            res = s[i-1:i+1]\n",
    "\n",
    "        elif s[i] == right:\n",
    "            res = s[i:i+1]            \n",
    "    \n",
    "    return res\n",
    "\n"
   ]
  },
  {
   "cell_type": "code",
   "execution_count": 46,
   "id": "36c8d6c4-a65c-415b-9c7c-890a9b256bc1",
   "metadata": {},
   "outputs": [],
   "source": [
    "s = \"babad\"\n",
    "s1 = \"cbbd\""
   ]
  },
  {
   "cell_type": "code",
   "execution_count": 48,
   "id": "5e65ead7-7f22-4296-accd-4d275e18c7e9",
   "metadata": {},
   "outputs": [
    {
     "data": {
      "text/plain": [
       "'bb'"
      ]
     },
     "execution_count": 48,
     "metadata": {},
     "output_type": "execute_result"
    }
   ],
   "source": [
    "longestPalindrome(s1)"
   ]
  },
  {
   "cell_type": "code",
   "execution_count": 74,
   "id": "0fae5c30-07fb-4bbc-b4f7-c409cd66b891",
   "metadata": {},
   "outputs": [],
   "source": [
    "lst = [('bab', 3), ('aba', 3)]"
   ]
  },
  {
   "cell_type": "code",
   "execution_count": 54,
   "id": "e483c8f3-9ffc-4ddf-bf80-be60fea2203d",
   "metadata": {},
   "outputs": [
    {
     "data": {
      "text/plain": [
       "{'bb': 2, 'cdcdc': 5}"
      ]
     },
     "execution_count": 54,
     "metadata": {},
     "output_type": "execute_result"
    }
   ],
   "source": [
    "{i:len(i) for i in lst if len(i)}"
   ]
  },
  {
   "cell_type": "code",
   "execution_count": 75,
   "id": "3eb21ca7-2064-44f5-93cc-93ef323520f5",
   "metadata": {},
   "outputs": [
    {
     "data": {
      "text/plain": [
       "('bab', 3)"
      ]
     },
     "execution_count": 75,
     "metadata": {},
     "output_type": "execute_result"
    }
   ],
   "source": [
    "sorted(list(zip(lst, list(map(len, lst)))), key=lambda x: x[1], reverse=True)[0][0]"
   ]
  },
  {
   "cell_type": "code",
   "execution_count": 76,
   "id": "a8de97e4-a2b5-434a-b362-78d3bb85ced6",
   "metadata": {},
   "outputs": [],
   "source": [
    "class Solution:\n",
    "    def longestPalindrome(self, s: str) -> str:\n",
    "        \n",
    "        lst = []\n",
    "        if len(s) < 3:\n",
    "            return s\n",
    "\n",
    "        for i in range(len(s)-1):\n",
    "            left, right = s[i-1] , s[i+1]\n",
    "            if i == 0 and s[i] == right:\n",
    "                lst.append(s[i: i+1])\n",
    "            \n",
    "            elif left == right:\n",
    "                lst.append(s[i-1: i+2])\n",
    "                \n",
    "            elif s[i] == left:\n",
    "                lst.append(s[i-1:i+1])\n",
    "\n",
    "            elif s[i] == right:\n",
    "                lst.append(s[i:i+1])\n",
    "\n",
    "            res = sorted(list(zip(lst, list(map(len, lst)))), key=lambda x: x[1], reverse=True)\n",
    "        res = res[0][0]\n",
    "               \n",
    "        return res\n",
    "        "
   ]
  },
  {
   "cell_type": "code",
   "execution_count": 77,
   "id": "afd5f2c4-0cc3-485e-94b8-bfa0b2f11958",
   "metadata": {},
   "outputs": [
    {
     "data": {
      "text/plain": [
       "'bab'"
      ]
     },
     "execution_count": 77,
     "metadata": {},
     "output_type": "execute_result"
    }
   ],
   "source": [
    "longestPalindrome(s)"
   ]
  },
  {
   "cell_type": "code",
   "execution_count": 85,
   "id": "28f6fd75-872f-4087-b0d8-542f19d861bf",
   "metadata": {},
   "outputs": [
    {
     "name": "stdout",
     "output_type": "stream",
     "text": [
      "An error occurred: get_throttling_function_name: could not find match for multiple\n"
     ]
    }
   ],
   "source": [
    "# Example usage\n",
    "video_url = 'https://www.youtube.com/watch?v=dQw4w9WgXcQ'  # Replace with your desired YouTube URL\n",
    "download_youtube_video(video_url, save_path='/Users/andishehtavakoli/Documents/temp.mp4')"
   ]
  },
  {
   "cell_type": "code",
   "execution_count": 87,
   "id": "db7bfbe3-b343-4818-a28e-8f6709831853",
   "metadata": {},
   "outputs": [],
   "source": [
    "import yt_dlp\n",
    "\n",
    "def download_youtube_video(url, save_path='.'):\n",
    "    try:\n",
    "        ydl_opts = {\n",
    "            'format': 'best',\n",
    "            'outtmpl': f'{save_path}/%(title)s.%(ext)s'\n",
    "        }\n",
    "        \n",
    "        with yt_dlp.YoutubeDL(ydl_opts) as ydl:\n",
    "            ydl.download([url])\n",
    "        \n",
    "        print(f\"Video downloaded successfully and saved to {save_path}\")\n",
    "    except Exception as e:\n",
    "        print(f\"An error occurred: {e}\")\n",
    "\n",
    "\n",
    "\n"
   ]
  },
  {
   "cell_type": "code",
   "execution_count": 91,
   "id": "13385e07-6acb-4136-ba39-57cd615880f9",
   "metadata": {},
   "outputs": [
    {
     "name": "stdout",
     "output_type": "stream",
     "text": [
      "[youtube:tab] Extracting URL: https://www.youtube.com/playlist?list=PLF1O-3n-kbQ60ZYjYB26HNd9c2Y-FUc-1\n",
      "[youtube:tab] PLF1O-3n-kbQ60ZYjYB26HNd9c2Y-FUc-1: Downloading webpage\n",
      "[youtube:tab] PLF1O-3n-kbQ60ZYjYB26HNd9c2Y-FUc-1: Redownloading playlist API JSON with unavailable videos\n",
      "[download] Downloading playlist: حل سوالات مصاحبه های برنامه نویسی (Leetcode)\n",
      "[youtube:tab] PLF1O-3n-kbQ60ZYjYB26HNd9c2Y-FUc-1 page 1: Downloading API JSON\n"
     ]
    },
    {
     "name": "stderr",
     "output_type": "stream",
     "text": [
      "WARNING: [youtube:tab] Incomplete data received. Retrying (1/3)...\n"
     ]
    },
    {
     "name": "stdout",
     "output_type": "stream",
     "text": [
      "[youtube:tab] PLF1O-3n-kbQ60ZYjYB26HNd9c2Y-FUc-1 page 1: Downloading API JSON\n"
     ]
    },
    {
     "name": "stderr",
     "output_type": "stream",
     "text": [
      "WARNING: [youtube:tab] Incomplete data received. Retrying (2/3)...\n"
     ]
    },
    {
     "name": "stdout",
     "output_type": "stream",
     "text": [
      "[youtube:tab] PLF1O-3n-kbQ60ZYjYB26HNd9c2Y-FUc-1 page 1: Downloading API JSON\n"
     ]
    },
    {
     "name": "stderr",
     "output_type": "stream",
     "text": [
      "WARNING: [youtube:tab] Incomplete data received. Retrying (3/3)...\n"
     ]
    },
    {
     "name": "stdout",
     "output_type": "stream",
     "text": [
      "[youtube:tab] PLF1O-3n-kbQ60ZYjYB26HNd9c2Y-FUc-1 page 1: Downloading API JSON\n"
     ]
    },
    {
     "name": "stderr",
     "output_type": "stream",
     "text": [
      "WARNING: [youtube:tab] Incomplete data received. Giving up after 3 retries\n"
     ]
    },
    {
     "name": "stdout",
     "output_type": "stream",
     "text": [
      "[youtube:tab] Playlist حل سوالات مصاحبه های برنامه نویسی (Leetcode): Downloading 28 items of 28\n",
      "[download] Downloading item 1 of 28\n",
      "[youtube] Extracting URL: https://www.youtube.com/watch?v=x-Qf8YMFEjk\n",
      "[youtube] x-Qf8YMFEjk: Downloading webpage\n",
      "[youtube] x-Qf8YMFEjk: Downloading ios player API JSON\n",
      "[youtube] x-Qf8YMFEjk: Downloading web creator player API JSON\n",
      "[youtube] x-Qf8YMFEjk: Downloading m3u8 information\n",
      "[info] x-Qf8YMFEjk: Downloading 1 format(s): 18\n",
      "[download] Destination: /Users/andishehtavakoli/Documents/temp1.mp4/LeetCode Problem 1： Two Sum 🟢 [Easy] (Persian).mp4\n",
      "[download] 100% of   62.33MiB in 00:00:25 at 2.48MiB/s     \n",
      "[download] Downloading item 2 of 28\n",
      "[youtube] Extracting URL: https://www.youtube.com/watch?v=KPz1Q2-OvpI\n",
      "[youtube] KPz1Q2-OvpI: Downloading webpage\n",
      "[youtube] KPz1Q2-OvpI: Downloading ios player API JSON\n",
      "[youtube] KPz1Q2-OvpI: Downloading web creator player API JSON\n",
      "[youtube] KPz1Q2-OvpI: Downloading m3u8 information\n",
      "[info] KPz1Q2-OvpI: Downloading 1 format(s): 18\n",
      "[download] Destination: /Users/andishehtavakoli/Documents/temp1.mp4/LeetCode Problem 2： Add Two Numbers 🟡 [Medium] (Persian).mp4\n",
      "[download] 100% of   88.89MiB in 00:00:26 at 3.40MiB/s     \n",
      "[download] Downloading item 3 of 28\n",
      "[youtube] Extracting URL: https://www.youtube.com/watch?v=tXJLQfVCoCs\n",
      "[youtube] tXJLQfVCoCs: Downloading webpage\n",
      "[youtube] tXJLQfVCoCs: Downloading ios player API JSON\n",
      "[youtube] tXJLQfVCoCs: Downloading web creator player API JSON\n",
      "[youtube] tXJLQfVCoCs: Downloading m3u8 information\n",
      "[info] tXJLQfVCoCs: Downloading 1 format(s): 18\n",
      "[download] Destination: /Users/andishehtavakoli/Documents/temp1.mp4/LeetCode Problem 3： Longest Substring Without Repeating Characters 🟡 [Medium] (Persian).mp4\n",
      "[download] 100% of   52.35MiB in 00:00:20 at 2.60MiB/s     \n",
      "[download] Downloading item 4 of 28\n",
      "[youtube] Extracting URL: https://www.youtube.com/watch?v=3TAH0nGXRYI\n",
      "[youtube] 3TAH0nGXRYI: Downloading webpage\n",
      "[youtube] 3TAH0nGXRYI: Downloading ios player API JSON\n",
      "[youtube] 3TAH0nGXRYI: Downloading web creator player API JSON\n",
      "[youtube] 3TAH0nGXRYI: Downloading m3u8 information\n",
      "[info] 3TAH0nGXRYI: Downloading 1 format(s): 18\n",
      "[download] Destination: /Users/andishehtavakoli/Documents/temp1.mp4/LeetCode Problem 4： Median of Two Sorted Arrays 🔴 [Hard] (Persian).mp4\n",
      "[download] 100% of  144.58MiB in 00:00:50 at 2.84MiB/s     \n",
      "[download] Downloading item 5 of 28\n",
      "[youtube] Extracting URL: https://www.youtube.com/watch?v=YU7w-VN20NE\n",
      "[youtube] YU7w-VN20NE: Downloading webpage\n",
      "[youtube] YU7w-VN20NE: Downloading ios player API JSON\n",
      "[youtube] YU7w-VN20NE: Downloading web creator player API JSON\n",
      "[youtube] YU7w-VN20NE: Downloading m3u8 information\n",
      "[info] YU7w-VN20NE: Downloading 1 format(s): 18\n",
      "[download] Destination: /Users/andishehtavakoli/Documents/temp1.mp4/LeetCode Problem 5： Longest Palindromic Substring 🟡 [Medium] (Persian).mp4\n",
      "[download] 100% of   76.62MiB in 00:00:30 at 2.49MiB/s     \n",
      "[download] Downloading item 6 of 28\n",
      "[youtube] Extracting URL: https://www.youtube.com/watch?v=qaBqHJ8OA0I\n",
      "[youtube] qaBqHJ8OA0I: Downloading webpage\n",
      "[youtube] qaBqHJ8OA0I: Downloading ios player API JSON\n",
      "[youtube] qaBqHJ8OA0I: Downloading web creator player API JSON\n",
      "[youtube] qaBqHJ8OA0I: Downloading m3u8 information\n",
      "[info] qaBqHJ8OA0I: Downloading 1 format(s): 18\n",
      "[download] Destination: /Users/andishehtavakoli/Documents/temp1.mp4/LeetCode Problem 6： Zigzag Conversion 🟡 [Medium] (Persian).mp4\n",
      "[download] 100% of   71.25MiB in 00:00:24 at 2.86MiB/s     \n",
      "[download] Downloading item 7 of 28\n",
      "[youtube] Extracting URL: https://www.youtube.com/watch?v=sYyDT0Q4PvA\n",
      "[youtube] sYyDT0Q4PvA: Downloading webpage\n",
      "[youtube] sYyDT0Q4PvA: Downloading ios player API JSON\n",
      "[youtube] sYyDT0Q4PvA: Downloading web creator player API JSON\n",
      "[youtube] sYyDT0Q4PvA: Downloading m3u8 information\n",
      "[info] sYyDT0Q4PvA: Downloading 1 format(s): 18\n",
      "[download] Destination: /Users/andishehtavakoli/Documents/temp1.mp4/LeetCode Problem 7： Reverse Integer 🟡 [Medium] (Persian).mp4\n",
      "[download] 100% of   60.11MiB in 00:00:27 at 2.21MiB/s     \n",
      "[download] Downloading item 8 of 28\n",
      "[youtube] Extracting URL: https://www.youtube.com/watch?v=WnXJ3abLgU8\n",
      "[youtube] WnXJ3abLgU8: Downloading webpage\n",
      "[youtube] WnXJ3abLgU8: Downloading ios player API JSON\n",
      "[youtube] WnXJ3abLgU8: Downloading web creator player API JSON\n",
      "[youtube] WnXJ3abLgU8: Downloading m3u8 information\n",
      "[info] WnXJ3abLgU8: Downloading 1 format(s): 18\n",
      "[download] Destination: /Users/andishehtavakoli/Documents/temp1.mp4/LeetCode Problem 8： String to Integer (atoi) 🟡 [Medium] (Persian).mp4\n",
      "[download] 100% of   47.14MiB in 00:00:15 at 3.10MiB/s     \n",
      "[download] Downloading item 9 of 28\n",
      "[youtube] Extracting URL: https://www.youtube.com/watch?v=0xNTwKJnbQw\n",
      "[youtube] 0xNTwKJnbQw: Downloading webpage\n",
      "[youtube] 0xNTwKJnbQw: Downloading ios player API JSON\n",
      "[youtube] 0xNTwKJnbQw: Downloading web creator player API JSON\n",
      "[youtube] 0xNTwKJnbQw: Downloading m3u8 information\n",
      "[info] 0xNTwKJnbQw: Downloading 1 format(s): 18\n",
      "[download] Destination: /Users/andishehtavakoli/Documents/temp1.mp4/LeetCode Problem 9： Palindrome Number 🟢 [Easy] (Persian).mp4\n",
      "[download] 100% of   20.98MiB in 00:00:07 at 2.68MiB/s     \n",
      "[download] Downloading item 10 of 28\n",
      "[youtube] Extracting URL: https://www.youtube.com/watch?v=3tJh_vkuaXQ\n",
      "[youtube] 3tJh_vkuaXQ: Downloading webpage\n",
      "[youtube] 3tJh_vkuaXQ: Downloading ios player API JSON\n",
      "[youtube] 3tJh_vkuaXQ: Downloading web creator player API JSON\n",
      "[youtube] 3tJh_vkuaXQ: Downloading m3u8 information\n",
      "[info] 3tJh_vkuaXQ: Downloading 1 format(s): 18\n",
      "[download] Destination: /Users/andishehtavakoli/Documents/temp1.mp4/LeetCode Problem 10： Regular Expression Matching 🔴 [Hard] (Persian).mp4\n",
      "[download] 100% of  247.10MiB in 00:01:29 at 2.76MiB/s     \n",
      "[download] Downloading item 11 of 28\n",
      "[youtube] Extracting URL: https://www.youtube.com/watch?v=mCpbKvBHJ3s\n",
      "[youtube] mCpbKvBHJ3s: Downloading webpage\n",
      "[youtube] mCpbKvBHJ3s: Downloading ios player API JSON\n",
      "[youtube] mCpbKvBHJ3s: Downloading web creator player API JSON\n",
      "[youtube] mCpbKvBHJ3s: Downloading m3u8 information\n",
      "[info] mCpbKvBHJ3s: Downloading 1 format(s): 18\n",
      "[download] Destination: /Users/andishehtavakoli/Documents/temp1.mp4/LeetCode Problem 11： Container With Most Water 🟡 [Medium] (Persian).mp4\n",
      "[download] 100% of   61.23MiB in 00:00:25 at 2.43MiB/s     \n",
      "[download] Downloading item 12 of 28\n",
      "[youtube] Extracting URL: https://www.youtube.com/watch?v=wpUBDFtmpF0\n",
      "[youtube] wpUBDFtmpF0: Downloading webpage\n",
      "[youtube] wpUBDFtmpF0: Downloading ios player API JSON\n",
      "[youtube] wpUBDFtmpF0: Downloading web creator player API JSON\n",
      "[youtube] wpUBDFtmpF0: Downloading m3u8 information\n",
      "[info] wpUBDFtmpF0: Downloading 1 format(s): 18\n",
      "[download] Destination: /Users/andishehtavakoli/Documents/temp1.mp4/LeetCode Problem 12： Integer to Roman 🟡 [Medium] (Persian).mp4\n",
      "[download] 100% of   53.62MiB in 00:00:21 at 2.49MiB/s     \n",
      "[download] Downloading item 13 of 28\n",
      "[youtube] Extracting URL: https://www.youtube.com/watch?v=ncAtmibHzbA\n",
      "[youtube] ncAtmibHzbA: Downloading webpage\n",
      "[youtube] ncAtmibHzbA: Downloading ios player API JSON\n",
      "[youtube] ncAtmibHzbA: Downloading web creator player API JSON\n",
      "[youtube] ncAtmibHzbA: Downloading m3u8 information\n",
      "[info] ncAtmibHzbA: Downloading 1 format(s): 18\n",
      "[download] Destination: /Users/andishehtavakoli/Documents/temp1.mp4/LeetCode Problem 13： Roman to Integer 🟢 [Easy] (Persian).mp4\n",
      "[download] 100% of   27.94MiB in 00:00:09 at 2.95MiB/s     \n",
      "[download] Downloading item 14 of 28\n",
      "[youtube] Extracting URL: https://www.youtube.com/watch?v=l79v8dVJyRs\n",
      "[youtube] l79v8dVJyRs: Downloading webpage\n",
      "[youtube] l79v8dVJyRs: Downloading ios player API JSON\n",
      "[youtube] l79v8dVJyRs: Downloading web creator player API JSON\n",
      "[youtube] l79v8dVJyRs: Downloading m3u8 information\n",
      "[info] l79v8dVJyRs: Downloading 1 format(s): 18\n",
      "[download] Destination: /Users/andishehtavakoli/Documents/temp1.mp4/LeetCode Problem 14： Longest Common Prefix 🟢 [Easy] (Persian).mp4\n",
      "[download] 100% of   89.61MiB in 00:00:34 at 2.60MiB/s     \n",
      "[download] Downloading item 15 of 28\n",
      "[youtube] Extracting URL: https://www.youtube.com/watch?v=jWcmMsD1VNQ\n",
      "[youtube] jWcmMsD1VNQ: Downloading webpage\n",
      "[youtube] jWcmMsD1VNQ: Downloading ios player API JSON\n",
      "[youtube] jWcmMsD1VNQ: Downloading web creator player API JSON\n",
      "[youtube] jWcmMsD1VNQ: Downloading m3u8 information\n",
      "[info] jWcmMsD1VNQ: Downloading 1 format(s): 18\n",
      "[download] Destination: /Users/andishehtavakoli/Documents/temp1.mp4/LeetCode Problem 15： 3Sum 🟡 [Medium] (Persian).mp4\n",
      "[download] 100% of   70.88MiB in 00:00:30 at 2.32MiB/s     \n",
      "[download] Downloading item 16 of 28\n",
      "[youtube] Extracting URL: https://www.youtube.com/watch?v=Qdj4wa0GQq4\n",
      "[youtube] Qdj4wa0GQq4: Downloading webpage\n",
      "[youtube] Qdj4wa0GQq4: Downloading ios player API JSON\n",
      "[youtube] Qdj4wa0GQq4: Downloading web creator player API JSON\n",
      "[youtube] Qdj4wa0GQq4: Downloading m3u8 information\n",
      "[info] Qdj4wa0GQq4: Downloading 1 format(s): 18\n",
      "[download] Destination: /Users/andishehtavakoli/Documents/temp1.mp4/LeetCode Problem 16： 3Sum Closest 🟡 [medium] (Persian).mp4\n",
      "[download] 100% of   11.59MiB in 00:00:04 at 2.65MiB/s     \n",
      "[download] Downloading item 17 of 28\n",
      "[youtube] Extracting URL: https://www.youtube.com/watch?v=Lm3ptdb9xk4\n",
      "[youtube] Lm3ptdb9xk4: Downloading webpage\n",
      "[youtube] Lm3ptdb9xk4: Downloading ios player API JSON\n",
      "[youtube] Lm3ptdb9xk4: Downloading web creator player API JSON\n",
      "[youtube] Lm3ptdb9xk4: Downloading m3u8 information\n",
      "[info] Lm3ptdb9xk4: Downloading 1 format(s): 18\n",
      "[download] /Users/andishehtavakoli/Documents/temp1.mp4/LeetCode Problem 17： Letter Combinations of a Phone Number 🟡 [medium] (Persian).mp4 has already been downloaded\n",
      "[download] 100% of   78.54MiB\n",
      "[download] Downloading item 18 of 28\n",
      "[youtube] Extracting URL: https://www.youtube.com/watch?v=iJw9rqC7MLA\n",
      "[youtube] iJw9rqC7MLA: Downloading webpage\n",
      "[youtube] iJw9rqC7MLA: Downloading ios player API JSON\n",
      "[youtube] iJw9rqC7MLA: Downloading web creator player API JSON\n",
      "[youtube] iJw9rqC7MLA: Downloading m3u8 information\n",
      "[info] iJw9rqC7MLA: Downloading 1 format(s): 18\n",
      "[download] Destination: /Users/andishehtavakoli/Documents/temp1.mp4/LeetCode Problem 18： 4Sum 🟡 [medium] (Persian).mp4\n",
      "[download] 100% of   58.92MiB in 00:00:25 at 2.33MiB/s     \n",
      "[download] Downloading item 19 of 28\n",
      "[youtube] Extracting URL: https://www.youtube.com/watch?v=pWF9Yfx-0E4\n",
      "[youtube] pWF9Yfx-0E4: Downloading webpage\n",
      "[youtube] pWF9Yfx-0E4: Downloading ios player API JSON\n",
      "[youtube] pWF9Yfx-0E4: Downloading web creator player API JSON\n",
      "[youtube] pWF9Yfx-0E4: Downloading m3u8 information\n",
      "[info] pWF9Yfx-0E4: Downloading 1 format(s): 18\n",
      "[download] Destination: /Users/andishehtavakoli/Documents/temp1.mp4/LeetCode Problem 19： Remove Nth Node From End of List🟡 [medium] (Persian).mp4\n",
      "[download] 100% of   66.43MiB in 00:00:28 at 2.30MiB/s   \n",
      "[download] Downloading item 20 of 28\n",
      "[youtube] Extracting URL: https://www.youtube.com/watch?v=gf2-MQj2NE8\n",
      "[youtube] gf2-MQj2NE8: Downloading webpage\n",
      "[youtube] gf2-MQj2NE8: Downloading ios player API JSON\n",
      "[youtube] gf2-MQj2NE8: Downloading web creator player API JSON\n",
      "[youtube] gf2-MQj2NE8: Downloading m3u8 information\n",
      "[info] gf2-MQj2NE8: Downloading 1 format(s): 18\n",
      "[download] Destination: /Users/andishehtavakoli/Documents/temp1.mp4/LeetCode Problem 20： Valid Parentheses 🟢 [easy] (Persian).mp4\n",
      "[download] 100% of   55.65MiB in 00:00:24 at 2.23MiB/s     \n",
      "[download] Downloading item 21 of 28\n",
      "[youtube] Extracting URL: https://www.youtube.com/watch?v=5XvrYfE9wOI\n",
      "[youtube] 5XvrYfE9wOI: Downloading webpage\n",
      "[youtube] 5XvrYfE9wOI: Downloading ios player API JSON\n",
      "[youtube] 5XvrYfE9wOI: Downloading web creator player API JSON\n",
      "[youtube] 5XvrYfE9wOI: Downloading m3u8 information\n",
      "[info] 5XvrYfE9wOI: Downloading 1 format(s): 18\n",
      "[download] Destination: /Users/andishehtavakoli/Documents/temp1.mp4/LeetCode Problem 21： Merge Two Sorted Lists 🟢 [easy] (Persian).mp4\n",
      "[download] 100% of   38.40MiB in 00:00:16 at 2.39MiB/s     \n",
      "[download] Downloading item 22 of 28\n",
      "[youtube] Extracting URL: https://www.youtube.com/watch?v=JexcAuCoMGI\n",
      "[youtube] JexcAuCoMGI: Downloading webpage\n",
      "[youtube] JexcAuCoMGI: Downloading ios player API JSON\n",
      "[youtube] JexcAuCoMGI: Downloading web creator player API JSON\n",
      "[youtube] JexcAuCoMGI: Downloading m3u8 information\n",
      "[info] JexcAuCoMGI: Downloading 1 format(s): 18\n",
      "[download] Destination: /Users/andishehtavakoli/Documents/temp1.mp4/LeetCode Problem 22： Generate Parenthesess 🟡 [medium] (Persian).mp4\n",
      "[download] 100% of   72.93MiB in 00:00:30 at 2.37MiB/s     \n",
      "[download] Downloading item 23 of 28\n",
      "[youtube] Extracting URL: https://www.youtube.com/watch?v=YUxcMGWitGY\n",
      "[youtube] YUxcMGWitGY: Downloading webpage\n",
      "[youtube] YUxcMGWitGY: Downloading ios player API JSON\n",
      "[youtube] YUxcMGWitGY: Downloading web creator player API JSON\n",
      "[youtube] YUxcMGWitGY: Downloading m3u8 information\n",
      "[info] YUxcMGWitGY: Downloading 1 format(s): 18\n",
      "[download] Destination: /Users/andishehtavakoli/Documents/temp1.mp4/LeetCode Problem 24： Swap Nodes in Pairs 🟡 [medium] (Persian).mp4\n",
      "[download] 100% of   79.06MiB in 00:00:33 at 2.37MiB/s     \n",
      "[download] Downloading item 24 of 28\n",
      "[youtube] Extracting URL: https://www.youtube.com/watch?v=kR0SFXV5l-s\n",
      "[youtube] kR0SFXV5l-s: Downloading webpage\n",
      "[youtube] kR0SFXV5l-s: Downloading ios player API JSON\n",
      "[youtube] kR0SFXV5l-s: Downloading web creator player API JSON\n",
      "[youtube] kR0SFXV5l-s: Downloading m3u8 information\n",
      "[info] kR0SFXV5l-s: Downloading 1 format(s): 18\n",
      "[download] Destination: /Users/andishehtavakoli/Documents/temp1.mp4/LeetCode Problem 25： Reverse Nodes in k-Group 🔴[hard] (Persian).mp4\n",
      "[download] 100% of   20.40MiB in 00:00:09 at 2.19MiB/s     \n",
      "[download] Downloading item 25 of 28\n",
      "[youtube] Extracting URL: https://www.youtube.com/watch?v=rnYSZ-O6Obs\n",
      "[youtube] rnYSZ-O6Obs: Downloading webpage\n",
      "[youtube] rnYSZ-O6Obs: Downloading ios player API JSON\n",
      "[youtube] rnYSZ-O6Obs: Downloading web creator player API JSON\n",
      "[youtube] rnYSZ-O6Obs: Downloading m3u8 information\n",
      "[info] rnYSZ-O6Obs: Downloading 1 format(s): 18\n",
      "[download] Destination: /Users/andishehtavakoli/Documents/temp1.mp4/LeetCode Problem 26： Remove Duplicates from Sorted Array 🟢 [hard] (Persian).mp4\n",
      "[download] 100% of   17.59MiB in 00:00:07 at 2.31MiB/s   \n",
      "[download] Downloading item 26 of 28\n",
      "[youtube] Extracting URL: https://www.youtube.com/watch?v=E1zWvRPtL_8\n",
      "[youtube] E1zWvRPtL_8: Downloading webpage\n",
      "[youtube] E1zWvRPtL_8: Downloading ios player API JSON\n",
      "[youtube] E1zWvRPtL_8: Downloading web creator player API JSON\n",
      "[youtube] E1zWvRPtL_8: Downloading m3u8 information\n",
      "[info] E1zWvRPtL_8: Downloading 1 format(s): 18\n",
      "[download] Destination: /Users/andishehtavakoli/Documents/temp1.mp4/LeetCode Problem 23： Merge k Sorted Lists 🔴 [hard] (Persian).mp4\n",
      "[download] 100% of   58.67MiB in 00:00:25 at 2.34MiB/s     \n",
      "[download] Downloading item 27 of 28\n",
      "[youtube] Extracting URL: https://www.youtube.com/watch?v=y2fxIZl_ANY\n",
      "[youtube] y2fxIZl_ANY: Downloading webpage\n",
      "[youtube] y2fxIZl_ANY: Downloading ios player API JSON\n",
      "[youtube] y2fxIZl_ANY: Downloading web creator player API JSON\n",
      "[youtube] y2fxIZl_ANY: Downloading m3u8 information\n",
      "[info] y2fxIZl_ANY: Downloading 1 format(s): 18\n",
      "[download] Destination: /Users/andishehtavakoli/Documents/temp1.mp4/LeetCode Problem 27： Remove Element 🟢 [easy] (Persian).mp4\n",
      "[download] 100% of   37.23MiB in 00:00:17 at 2.16MiB/s     \n",
      "[download] Downloading item 28 of 28\n",
      "[youtube] Extracting URL: https://www.youtube.com/watch?v=ydLiMjrCYI8\n",
      "[youtube] ydLiMjrCYI8: Downloading webpage\n",
      "[youtube] ydLiMjrCYI8: Downloading ios player API JSON\n",
      "[youtube] ydLiMjrCYI8: Downloading web creator player API JSON\n",
      "[youtube] ydLiMjrCYI8: Downloading m3u8 information\n",
      "[info] ydLiMjrCYI8: Downloading 1 format(s): 18\n",
      "[download] Destination: /Users/andishehtavakoli/Documents/temp1.mp4/LeetCode Problem 28： Find the Index of the First Occurrence in a String 🟢 [easy] (Persian).mp4\n",
      "[download] 100% of   30.60MiB in 00:00:11 at 2.63MiB/s     \n",
      "[download] Finished downloading playlist: حل سوالات مصاحبه های برنامه نویسی (Leetcode)\n",
      "Video downloaded successfully and saved to /Users/andishehtavakoli/Documents/temp1.mp4\n"
     ]
    }
   ],
   "source": [
    "# Example usage\n",
    "video_url = 'https://www.youtube.com/playlist?list=PLF1O-3n-kbQ60ZYjYB26HNd9c2Y-FUc-1'  # Replace with your desired YouTube URL\n",
    "download_youtube_video(video_url, save_path='/Users/andishehtavakoli/Documents/temp1.mp4')"
   ]
  },
  {
   "cell_type": "markdown",
   "id": "39556939",
   "metadata": {},
   "source": [
    "## Zigzag"
   ]
  },
  {
   "cell_type": "code",
   "execution_count": 32,
   "id": "30989306",
   "metadata": {},
   "outputs": [],
   "source": [
    "class Solution:\n",
    "    def convert(self, s, numRows):\n",
    "        \"\"\"\n",
    "        :type s: str\n",
    "        :type numRows: int\n",
    "        :rtype: str\n",
    "        \"\"\"\n",
    "        \n",
    "        if numRows == 1:\n",
    "            return s\n",
    "        \n",
    "        flag = True\n",
    "        row = 0    \n",
    "        m = [[] for i in range(numRows)]\n",
    "       \n",
    "        \n",
    "        for ch in s:\n",
    "            if flag:\n",
    "                m[row].append(ch)\n",
    "                row += 1\n",
    "                \n",
    "            else:\n",
    "                row -= 1\n",
    "                m[row].append(ch)\n",
    "                \n",
    "            if row == numRows:\n",
    "                flag = False\n",
    "                row -= 1\n",
    "                \n",
    "            elif row == 0:\n",
    "                row += 1\n",
    "                flag = True\n",
    "                \n",
    "                \n",
    "        result = ''        \n",
    "        for i in range(numRows):\n",
    "            result = result + \"\".join(m[i])\n",
    "                \n",
    "        return result\n",
    "                \n",
    "                \n",
    "            \n",
    "    "
   ]
  },
  {
   "cell_type": "code",
   "execution_count": 33,
   "id": "084de686",
   "metadata": {},
   "outputs": [],
   "source": [
    "obj = Solution()"
   ]
  },
  {
   "cell_type": "code",
   "execution_count": 34,
   "id": "ffce9b33",
   "metadata": {},
   "outputs": [
    {
     "data": {
      "text/plain": [
       "'PAYPALISHIRING'"
      ]
     },
     "execution_count": 34,
     "metadata": {},
     "output_type": "execute_result"
    }
   ],
   "source": [
    "obj.convert(\"PAYPALISHIRING\", 3)"
   ]
  },
  {
   "cell_type": "code",
   "execution_count": 35,
   "id": "96a16bfd",
   "metadata": {},
   "outputs": [],
   "source": [
    "m = [['P', 'A', 'H', 'N'], ['A', 'P', 'L', 'S', 'I', 'I', 'G'], ['Y', 'I', 'R']]\n"
   ]
  },
  {
   "cell_type": "code",
   "execution_count": 12,
   "id": "823412a4",
   "metadata": {},
   "outputs": [
    {
     "data": {
      "text/plain": [
       "'PAHNAPLSIIGYIR'"
      ]
     },
     "execution_count": 12,
     "metadata": {},
     "output_type": "execute_result"
    }
   ],
   "source": [
    "\"\".join(m[0]) + \"\".join(m[1]) + \"\".join(m[2])"
   ]
  },
  {
   "cell_type": "code",
   "execution_count": 16,
   "id": "2adf70cc",
   "metadata": {},
   "outputs": [],
   "source": [
    "result = ''\n",
    "for i in range(3):\n",
    "   result = result + \"\".join(m[i])\n",
    "    \n",
    "    \n",
    "    "
   ]
  },
  {
   "cell_type": "code",
   "execution_count": 17,
   "id": "e051a307",
   "metadata": {},
   "outputs": [
    {
     "data": {
      "text/plain": [
       "'PAHNAPLSIIGYIR'"
      ]
     },
     "execution_count": 17,
     "metadata": {},
     "output_type": "execute_result"
    }
   ],
   "source": [
    "result"
   ]
  },
  {
   "cell_type": "code",
   "execution_count": null,
   "id": "bf095d20",
   "metadata": {},
   "outputs": [],
   "source": [
    "class Solution:\n",
    "    def reverse(self, x: int) -> int:"
   ]
  },
  {
   "cell_type": "code",
   "execution_count": null,
   "id": "046b3ab4",
   "metadata": {},
   "outputs": [],
   "source": [
    "def reverse(self, x: int) -> int:\n",
    "    "
   ]
  },
  {
   "cell_type": "code",
   "execution_count": 9,
   "id": "308842e1",
   "metadata": {},
   "outputs": [],
   "source": [
    "s = 'abcdef'"
   ]
  },
  {
   "cell_type": "code",
   "execution_count": 11,
   "id": "7e768c91",
   "metadata": {},
   "outputs": [
    {
     "data": {
      "text/plain": [
       "'ace'"
      ]
     },
     "execution_count": 11,
     "metadata": {},
     "output_type": "execute_result"
    }
   ],
   "source": [
    "s[::2]"
   ]
  },
  {
   "cell_type": "code",
   "execution_count": 14,
   "id": "430025af",
   "metadata": {},
   "outputs": [],
   "source": [
    "num = 123"
   ]
  },
  {
   "cell_type": "code",
   "execution_count": 27,
   "id": "12e114e2",
   "metadata": {},
   "outputs": [
    {
     "data": {
      "text/plain": [
       "'1'"
      ]
     },
     "execution_count": 27,
     "metadata": {},
     "output_type": "execute_result"
    }
   ],
   "source": [
    "str(num)[0]"
   ]
  },
  {
   "cell_type": "code",
   "execution_count": 76,
   "id": "afe78262",
   "metadata": {},
   "outputs": [],
   "source": [
    "class Solution:\n",
    "    def reverse(self, x: int) -> int:\n",
    "        sign = -1 if x < 0 else 1\n",
    "        \n",
    "        result = sign * int(str(abs(x))[::-1])\n",
    "        if -2 ** 31 <= result <= (2 ** 31) - 1:\n",
    "            return result\n",
    "        else:\n",
    "            return 0\n",
    "                "
   ]
  },
  {
   "cell_type": "code",
   "execution_count": 77,
   "id": "90d085c6",
   "metadata": {},
   "outputs": [
    {
     "data": {
      "text/plain": [
       "-321"
      ]
     },
     "execution_count": 77,
     "metadata": {},
     "output_type": "execute_result"
    }
   ],
   "source": [
    "reverse(-123)"
   ]
  },
  {
   "cell_type": "code",
   "execution_count": null,
   "id": "29f40def",
   "metadata": {},
   "outputs": [],
   "source": []
  }
 ],
 "metadata": {
  "kernelspec": {
   "display_name": "Python 3 (ipykernel)",
   "language": "python",
   "name": "python3"
  },
  "language_info": {
   "codemirror_mode": {
    "name": "ipython",
    "version": 3
   },
   "file_extension": ".py",
   "mimetype": "text/x-python",
   "name": "python",
   "nbconvert_exporter": "python",
   "pygments_lexer": "ipython3",
   "version": "3.11.9"
  }
 },
 "nbformat": 4,
 "nbformat_minor": 5
}
