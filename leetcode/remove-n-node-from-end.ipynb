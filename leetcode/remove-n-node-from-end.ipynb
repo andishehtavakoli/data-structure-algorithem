{
 "cells": [
  {
   "cell_type": "code",
   "execution_count": 1,
   "metadata": {},
   "outputs": [],
   "source": [
    "from typing import Optional"
   ]
  },
  {
   "cell_type": "code",
   "execution_count": 2,
   "metadata": {},
   "outputs": [],
   "source": [
    "\n",
    "class ListNode:\n",
    "    def __init__(self, val=0, next=None):\n",
    "        self.val = val\n",
    "        self.next = next"
   ]
  },
  {
   "cell_type": "code",
   "execution_count": 50,
   "metadata": {},
   "outputs": [],
   "source": [
    "class Solution:\n",
    "    def removeNthFromEnd(self, head: Optional[ListNode], n: int) -> Optional[ListNode]:\n",
    "        temp = ListNode(0, head)\n",
    "        pre, curr = temp, head\n",
    "        \n",
    "        while curr and n: \n",
    "            curr = curr.next\n",
    "            n -= 1\n",
    "        while curr:\n",
    "            curr = curr.next\n",
    "            pre = pre.next\n",
    "        \n",
    "        pre.next = pre.next.next\n",
    "        \n",
    "        return temp.next"
   ]
  },
  {
   "cell_type": "code",
   "execution_count": 53,
   "metadata": {},
   "outputs": [],
   "source": [
    "obj_5 = ListNode(5,)\n",
    "obj_4 = ListNode(4, obj_5)\n",
    "obj_3 = ListNode(3, obj_4)\n",
    "obj_2 = ListNode(2, obj_3)\n",
    "obj_1 = ListNode(1, obj_2)"
   ]
  },
  {
   "cell_type": "code",
   "execution_count": 54,
   "metadata": {},
   "outputs": [
    {
     "data": {
      "text/plain": [
       "5"
      ]
     },
     "execution_count": 54,
     "metadata": {},
     "output_type": "execute_result"
    }
   ],
   "source": [
    "obj = Solution()\n",
    "obj.removeNthFromEnd(obj_1, 2).next.val"
   ]
  },
  {
   "cell_type": "markdown",
   "metadata": {},
   "source": [
    "## Test"
   ]
  },
  {
   "cell_type": "code",
   "execution_count": 55,
   "metadata": {},
   "outputs": [
    {
     "name": "stdout",
     "output_type": "stream",
     "text": [
      "[1, 2, 3, 5]\n"
     ]
    }
   ],
   "source": [
    "def list_to_linkedlist(lst):\n",
    "    \"\"\"Helper function to convert a list to a linked list\"\"\"\n",
    "    dummy = ListNode(0)\n",
    "    current = dummy\n",
    "    for value in lst:\n",
    "        current.next = ListNode(value)\n",
    "        current = current.next\n",
    "    return dummy.next\n",
    "\n",
    "def linkedlist_to_list(node):\n",
    "    \"\"\"Helper function to convert a linked list to a list\"\"\"\n",
    "    result = []\n",
    "    current = node\n",
    "    while current:\n",
    "        result.append(current.val)\n",
    "        current = current.next\n",
    "    return result\n",
    "\n",
    "if __name__ == \"__main__\":\n",
    "    head = [1, 2, 3, 4, 5]\n",
    "    n = 2\n",
    "    \n",
    "    linkedlist_head = list_to_linkedlist(head)\n",
    "    solution = Solution()\n",
    "    result = solution.removeNthFromEnd(linkedlist_head, n)\n",
    "    \n",
    "    result_list = linkedlist_to_list(result)\n",
    "    print(result_list)  # Output: [1, 2, 3, 5]"
   ]
  },
  {
   "cell_type": "code",
   "execution_count": null,
   "metadata": {},
   "outputs": [],
   "source": []
  },
  {
   "cell_type": "code",
   "execution_count": null,
   "metadata": {},
   "outputs": [],
   "source": []
  }
 ],
 "metadata": {
  "kernelspec": {
   "display_name": "py311",
   "language": "python",
   "name": "python3"
  },
  "language_info": {
   "codemirror_mode": {
    "name": "ipython",
    "version": 3
   },
   "file_extension": ".py",
   "mimetype": "text/x-python",
   "name": "python",
   "nbconvert_exporter": "python",
   "pygments_lexer": "ipython3",
   "version": "3.11.9"
  }
 },
 "nbformat": 4,
 "nbformat_minor": 2
}
