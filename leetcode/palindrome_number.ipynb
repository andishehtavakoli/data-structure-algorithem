{
 "cells": [
  {
   "cell_type": "code",
   "execution_count": null,
   "metadata": {},
   "outputs": [],
   "source": [
    "\n",
    "def isPalindrome(self, x: int) -> bool:\n",
    "    if x < 0:\n",
    "        return False\n",
    "    \n",
    "    \n",
    "    res = 0\n",
    "    temp = x\n",
    "    \n",
    "    while temp > 0:\n",
    "        res = res * 10 + temp % 10\n",
    "        temp //10\n",
    "    retrun res == x"
   ]
  }
 ],
 "metadata": {
  "language_info": {
   "name": "python"
  }
 },
 "nbformat": 4,
 "nbformat_minor": 2
}
