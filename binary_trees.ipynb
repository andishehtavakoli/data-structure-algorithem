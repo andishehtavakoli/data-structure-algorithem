{
 "cells": [
  {
   "cell_type": "markdown",
   "id": "c6785272",
   "metadata": {},
   "source": [
    "## General Tree: Difine Levels: Method 1: "
   ]
  },
  {
   "cell_type": "code",
   "execution_count": 1,
   "id": "8777afb0",
   "metadata": {},
   "outputs": [],
   "source": [
    "class TreeNode:\n",
    "    def __init__(self, data):\n",
    "        self.data = data\n",
    "        self.childrean = []\n",
    "        self.parent = None\n",
    "        self.level = 1\n",
    "        \n",
    "        \n",
    "    def add_child(self, child):\n",
    "        self.childrean.append(child)\n",
    "        child.parent = self\n",
    "        child.level = child.parent.level + 1\n",
    "        \n",
    "        \n",
    "    def print_tree(self):\n",
    "        space = \"   \"*self.level\n",
    "        prefix = space + \"|--\" if self.parent else \"|--\"\n",
    "        print(prefix, self.data)\n",
    "        for child in self.childrean:\n",
    "            child.print_tree()\n",
    "        "
   ]
  },
  {
   "cell_type": "code",
   "execution_count": 2,
   "id": "d24e0511",
   "metadata": {},
   "outputs": [],
   "source": [
    "def create_tree():\n",
    "    root = TreeNode('Electronic')\n",
    "    \n",
    "    phone = TreeNode('phone')\n",
    "    root.add_child(phone)\n",
    "    phone.add_child(TreeNode('iphone'))\n",
    "    phone.add_child(TreeNode('sumsung'))\n",
    "    phone.add_child(TreeNode('LG'))\n",
    "    \n",
    "    television = TreeNode('Television')\n",
    "    root.add_child(television)\n",
    "    television.add_child(TreeNode('LG'))\n",
    "    television.add_child(TreeNode('sumsung'))\n",
    "    \n",
    "    laptop = TreeNode('laptop')\n",
    "    root.add_child(laptop)\n",
    "    laptop.add_child(TreeNode('apple'))\n",
    "    laptop.add_child(TreeNode('asus'))\n",
    "    laptop.add_child(TreeNode('dell'))\n",
    "       \n",
    "    \n",
    "    return root"
   ]
  },
  {
   "cell_type": "code",
   "execution_count": 3,
   "id": "02e5547b",
   "metadata": {},
   "outputs": [],
   "source": [
    "root = create_tree()"
   ]
  },
  {
   "cell_type": "code",
   "execution_count": 4,
   "id": "b5446eab",
   "metadata": {},
   "outputs": [
    {
     "data": {
      "text/plain": [
       "<__main__.TreeNode at 0x10490d950>"
      ]
     },
     "execution_count": 4,
     "metadata": {},
     "output_type": "execute_result"
    }
   ],
   "source": [
    "root"
   ]
  },
  {
   "cell_type": "code",
   "execution_count": 5,
   "id": "cdefaf12",
   "metadata": {},
   "outputs": [
    {
     "name": "stdout",
     "output_type": "stream",
     "text": [
      "|-- Electronic\n",
      "      |-- phone\n",
      "         |-- iphone\n",
      "         |-- sumsung\n",
      "         |-- LG\n",
      "      |-- Television\n",
      "         |-- LG\n",
      "         |-- sumsung\n",
      "      |-- laptop\n",
      "         |-- apple\n",
      "         |-- asus\n",
      "         |-- dell\n"
     ]
    }
   ],
   "source": [
    "root.print_tree()"
   ]
  },
  {
   "cell_type": "code",
   "execution_count": 6,
   "id": "7fcbb33a",
   "metadata": {},
   "outputs": [
    {
     "data": {
      "text/plain": [
       "[<__main__.TreeNode at 0x10490aa50>,\n",
       " <__main__.TreeNode at 0x10490a1d0>,\n",
       " <__main__.TreeNode at 0x104909310>]"
      ]
     },
     "execution_count": 6,
     "metadata": {},
     "output_type": "execute_result"
    }
   ],
   "source": [
    "root.childrean"
   ]
  },
  {
   "cell_type": "code",
   "execution_count": 7,
   "id": "a3a63b89",
   "metadata": {},
   "outputs": [
    {
     "data": {
      "text/plain": [
       "'Electronic'"
      ]
     },
     "execution_count": 7,
     "metadata": {},
     "output_type": "execute_result"
    }
   ],
   "source": [
    "root.childrean[0].parent.data"
   ]
  },
  {
   "cell_type": "code",
   "execution_count": 8,
   "id": "4ccde0fe",
   "metadata": {},
   "outputs": [
    {
     "data": {
      "text/plain": [
       "'phone'"
      ]
     },
     "execution_count": 8,
     "metadata": {},
     "output_type": "execute_result"
    }
   ],
   "source": [
    "root.childrean[0].data"
   ]
  },
  {
   "cell_type": "code",
   "execution_count": 9,
   "id": "84a5e5b8",
   "metadata": {},
   "outputs": [
    {
     "data": {
      "text/plain": [
       "'Television'"
      ]
     },
     "execution_count": 9,
     "metadata": {},
     "output_type": "execute_result"
    }
   ],
   "source": [
    "root.childrean[1].data"
   ]
  },
  {
   "cell_type": "code",
   "execution_count": 10,
   "id": "358bc868",
   "metadata": {},
   "outputs": [
    {
     "data": {
      "text/plain": [
       "'laptop'"
      ]
     },
     "execution_count": 10,
     "metadata": {},
     "output_type": "execute_result"
    }
   ],
   "source": [
    "root.childrean[2].data"
   ]
  },
  {
   "cell_type": "markdown",
   "id": "f3188edc",
   "metadata": {},
   "source": [
    "## General Tree: Difine Levels: Method 2: "
   ]
  },
  {
   "cell_type": "code",
   "execution_count": 135,
   "id": "600082bd",
   "metadata": {},
   "outputs": [],
   "source": [
    "class TreeNode:\n",
    "    def __init__(self, data):\n",
    "        self.data = data\n",
    "        self.childrean = []\n",
    "        self.parent = None\n",
    "        \n",
    "        \n",
    "        \n",
    "    def add_child(self, child):\n",
    "        self.childrean.append(child)\n",
    "        child.parent = self\n",
    "        \n",
    "        \n",
    "    def get_lvl(self):\n",
    "        level = 0\n",
    "        p = self.parent\n",
    "        while p:\n",
    "            level += 1\n",
    "            p = p.parent\n",
    "        return level\n",
    "    \n",
    "      \n",
    "    def search_child(self, key):\n",
    "        print(self.data)\n",
    "        print(key)\n",
    "        print('$$$$$$$$$$$$$$$$$')\n",
    "        \n",
    "        if self.data == key:\n",
    "            return True\n",
    "        \n",
    "        else:\n",
    "        \n",
    "            for child in self.childrean:\n",
    "                found = child.search_child(key)\n",
    "                if found:\n",
    "                    return True\n",
    "\n",
    "        \n",
    "            return False \n",
    "        \n",
    "        \n",
    "    def height(self):\n",
    "        if len(self.children) == 0:\n",
    "            return 0\n",
    "        \n",
    "        max_heigth = -1\n",
    "        for child in self.children:\n",
    "            max_height = max(max_height , child.height())\n",
    "        return max_heigth + 1\n",
    "    \n",
    "\n",
    "        \n",
    "    def print_tree(self):\n",
    "        space = \"   \"*self.get_lvl()\n",
    "        prefix = space + \"|--\" if self.parent else \"|--\"\n",
    "        print(prefix, self.data)\n",
    "        for child in self.childrean:\n",
    "            child.print_tree()\n",
    "            \n",
    "            \n",
    "    def isbinery(self):\n",
    "        if len(self.childrean) > 2:\n",
    "            return False\n",
    "        \n",
    "        elif len(self.childrean) == 0:\n",
    "            return True\n",
    "        \n",
    "        else:\n",
    "            for child in self.childrean:\n",
    "                if child.isbinery():\n",
    "                    return True\n",
    "        return True\n",
    "    "
   ]
  },
  {
   "cell_type": "code",
   "execution_count": 136,
   "id": "e88ff31e",
   "metadata": {},
   "outputs": [],
   "source": [
    "def create_tree():\n",
    "    root = TreeNode('Electronic')\n",
    "    \n",
    "    phone = TreeNode('phone')\n",
    "    \n",
    "    phone.add_child(TreeNode('iphone'))\n",
    "    phone.add_child(TreeNode('sumsung'))\n",
    "    phone.add_child(TreeNode('LG'))\n",
    "    \n",
    "    television = TreeNode('Television')    \n",
    "    television.add_child(TreeNode('LG'))\n",
    "    television.add_child(TreeNode('sumsung'))\n",
    "\n",
    "    laptop = TreeNode('laptop')    \n",
    "    laptop.add_child(TreeNode('apple'))\n",
    "    laptop.add_child(TreeNode('asus'))\n",
    "    laptop.add_child(TreeNode('dell'))\n",
    "    laptop.add_child(TreeNode('MSI'))\n",
    "    \n",
    "    root.add_child(phone)\n",
    "    root.add_child(television)\n",
    "    root.add_child(laptop)\n",
    "       \n",
    "    \n",
    "    return root"
   ]
  },
  {
   "cell_type": "code",
   "execution_count": 137,
   "id": "1f0d2167",
   "metadata": {},
   "outputs": [],
   "source": [
    "root = create_tree()"
   ]
  },
  {
   "cell_type": "code",
   "execution_count": 138,
   "id": "9ed3f757",
   "metadata": {},
   "outputs": [
    {
     "name": "stdout",
     "output_type": "stream",
     "text": [
      "|-- Electronic\n",
      "   |-- phone\n",
      "      |-- iphone\n",
      "      |-- sumsung\n",
      "      |-- LG\n",
      "   |-- Television\n",
      "      |-- LG\n",
      "      |-- sumsung\n",
      "   |-- laptop\n",
      "      |-- apple\n",
      "      |-- asus\n",
      "      |-- dell\n",
      "      |-- MSI\n"
     ]
    }
   ],
   "source": [
    "root.print_tree()"
   ]
  },
  {
   "cell_type": "code",
   "execution_count": 139,
   "id": "b489df3d",
   "metadata": {},
   "outputs": [
    {
     "data": {
      "text/plain": [
       "False"
      ]
     },
     "execution_count": 139,
     "metadata": {},
     "output_type": "execute_result"
    }
   ],
   "source": [
    "root.isbinery()"
   ]
  },
  {
   "cell_type": "code",
   "execution_count": 140,
   "id": "3793aa47",
   "metadata": {},
   "outputs": [
    {
     "name": "stdout",
     "output_type": "stream",
     "text": [
      "Electronic\n",
      "dell\n",
      "$$$$$$$$$$$$$$$$$\n",
      "phone\n",
      "dell\n",
      "$$$$$$$$$$$$$$$$$\n",
      "iphone\n",
      "dell\n",
      "$$$$$$$$$$$$$$$$$\n",
      "sumsung\n",
      "dell\n",
      "$$$$$$$$$$$$$$$$$\n",
      "LG\n",
      "dell\n",
      "$$$$$$$$$$$$$$$$$\n",
      "Television\n",
      "dell\n",
      "$$$$$$$$$$$$$$$$$\n",
      "LG\n",
      "dell\n",
      "$$$$$$$$$$$$$$$$$\n",
      "sumsung\n",
      "dell\n",
      "$$$$$$$$$$$$$$$$$\n",
      "laptop\n",
      "dell\n",
      "$$$$$$$$$$$$$$$$$\n",
      "apple\n",
      "dell\n",
      "$$$$$$$$$$$$$$$$$\n",
      "asus\n",
      "dell\n",
      "$$$$$$$$$$$$$$$$$\n",
      "dell\n",
      "dell\n",
      "$$$$$$$$$$$$$$$$$\n"
     ]
    },
    {
     "data": {
      "text/plain": [
       "True"
      ]
     },
     "execution_count": 140,
     "metadata": {},
     "output_type": "execute_result"
    }
   ],
   "source": [
    "root.search_child('dell')"
   ]
  },
  {
   "cell_type": "markdown",
   "id": "b2a549c3",
   "metadata": {},
   "source": [
    "<img src='https://iq.opengenus.org/content/images/2022/07/Strict-Binary-Tree--1-.png'>"
   ]
  },
  {
   "cell_type": "markdown",
   "id": "62d6f90d",
   "metadata": {},
   "source": [
    "## Binery Tree Class"
   ]
  },
  {
   "cell_type": "code",
   "execution_count": 107,
   "id": "a806274b",
   "metadata": {},
   "outputs": [],
   "source": [
    "class BineryTree:    \n",
    "    def __init__(self, data):\n",
    "        self.data = data\n",
    "        self.left = None\n",
    "        self.right = None\n",
    "        \n",
    "        \n",
    "    def add_child(self, data):\n",
    "        if type(data) != BineryTree:\n",
    "            data = BineryTree(data)                   \n",
    "        \n",
    "        if self.left == None:\n",
    "            self.left = data\n",
    "            \n",
    "        elif self.right == None:\n",
    "            self.right = data\n",
    "            \n",
    "        else:\n",
    "            self.left.add_child(data)\n",
    "            \n",
    "            \n",
    "def isstric(root):\n",
    "        if root == None:\n",
    "            return True\n",
    "        \n",
    "        if root.left == None and root.right == None:\n",
    "            return True\n",
    "        \n",
    "        \n",
    "        if root.left is not None and root.right is not None:\n",
    "            return isstric(root.left) and isstric(root.right)\n",
    "            \n",
    "        return False\n",
    "    \n",
    "\n",
    "def count_node(root):\n",
    "    if root is None:\n",
    "        return 0\n",
    "    \n",
    "    return (1 + count_node(root.left) + count_node(root.right))\n",
    "\n",
    "def iscomplete(root, index, number_nods):\n",
    "    if root is None:\n",
    "        return True\n",
    "    \n",
    "    if index >= number_nodes:\n",
    "        return False\n",
    "    \n",
    "    return iscomplete(root.left, 2*index+1, number_nodes) and iscomplete(root.right, 2*index+2, number_nodes)\n",
    "                  "
   ]
  },
  {
   "cell_type": "code",
   "execution_count": 108,
   "id": "5388bde3",
   "metadata": {},
   "outputs": [],
   "source": [
    "root = BineryTree(9)\n",
    "root.add_child(3)\n",
    "root.add_child(4)\n",
    "root.add_child(5)\n",
    "root.add_child(8)\n",
    "root.add_child(7)"
   ]
  },
  {
   "cell_type": "code",
   "execution_count": 109,
   "id": "899248e4",
   "metadata": {},
   "outputs": [
    {
     "data": {
      "text/plain": [
       "9"
      ]
     },
     "execution_count": 109,
     "metadata": {},
     "output_type": "execute_result"
    }
   ],
   "source": [
    "root.data"
   ]
  },
  {
   "cell_type": "code",
   "execution_count": 110,
   "id": "6ea64147",
   "metadata": {},
   "outputs": [
    {
     "data": {
      "text/plain": [
       "3"
      ]
     },
     "execution_count": 110,
     "metadata": {},
     "output_type": "execute_result"
    }
   ],
   "source": [
    "root.left.data"
   ]
  },
  {
   "cell_type": "code",
   "execution_count": 111,
   "id": "95db6f4d",
   "metadata": {},
   "outputs": [
    {
     "data": {
      "text/plain": [
       "4"
      ]
     },
     "execution_count": 111,
     "metadata": {},
     "output_type": "execute_result"
    }
   ],
   "source": [
    "root.right.data"
   ]
  },
  {
   "cell_type": "code",
   "execution_count": 112,
   "id": "846c3a28",
   "metadata": {},
   "outputs": [
    {
     "data": {
      "text/plain": [
       "5"
      ]
     },
     "execution_count": 112,
     "metadata": {},
     "output_type": "execute_result"
    }
   ],
   "source": [
    "root.left.left.data"
   ]
  },
  {
   "cell_type": "code",
   "execution_count": 113,
   "id": "69997263",
   "metadata": {},
   "outputs": [
    {
     "data": {
      "text/plain": [
       "False"
      ]
     },
     "execution_count": 113,
     "metadata": {},
     "output_type": "execute_result"
    }
   ],
   "source": [
    "isstric(root)"
   ]
  },
  {
   "cell_type": "code",
   "execution_count": 114,
   "id": "03bc70e2",
   "metadata": {},
   "outputs": [
    {
     "data": {
      "text/plain": [
       "6"
      ]
     },
     "execution_count": 114,
     "metadata": {},
     "output_type": "execute_result"
    }
   ],
   "source": [
    "count_node(root)"
   ]
  },
  {
   "cell_type": "code",
   "execution_count": 115,
   "id": "9e961d72",
   "metadata": {},
   "outputs": [],
   "source": [
    "number_nodes = 6\n",
    "index = 0"
   ]
  },
  {
   "cell_type": "code",
   "execution_count": 116,
   "id": "093f0ca7",
   "metadata": {},
   "outputs": [
    {
     "data": {
      "text/plain": [
       "False"
      ]
     },
     "execution_count": 116,
     "metadata": {},
     "output_type": "execute_result"
    }
   ],
   "source": [
    "iscomplete(root, index, number_nodes)"
   ]
  },
  {
   "cell_type": "code",
   "execution_count": null,
   "id": "a56196d5",
   "metadata": {},
   "outputs": [],
   "source": []
  }
 ],
 "metadata": {
  "kernelspec": {
   "display_name": "Python 3 (ipykernel)",
   "language": "python",
   "name": "python3"
  },
  "language_info": {
   "codemirror_mode": {
    "name": "ipython",
    "version": 3
   },
   "file_extension": ".py",
   "mimetype": "text/x-python",
   "name": "python",
   "nbconvert_exporter": "python",
   "pygments_lexer": "ipython3",
   "version": "3.11.7"
  }
 },
 "nbformat": 4,
 "nbformat_minor": 5
}
