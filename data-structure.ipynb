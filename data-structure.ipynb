{
 "cells": [
  {
   "cell_type": "markdown",
   "id": "e8e327d4",
   "metadata": {},
   "source": [
    "## Complexity: Time , Space"
   ]
  },
  {
   "cell_type": "code",
   "execution_count": 1,
   "id": "04ceb167",
   "metadata": {},
   "outputs": [],
   "source": [
    "import time\n",
    "import matplotlib.pyplot as plt"
   ]
  },
  {
   "cell_type": "code",
   "execution_count": 2,
   "id": "ed46961e",
   "metadata": {},
   "outputs": [],
   "source": [
    "start = time.time()"
   ]
  },
  {
   "cell_type": "code",
   "execution_count": 3,
   "id": "5317fe27",
   "metadata": {},
   "outputs": [
    {
     "data": {
      "text/plain": [
       "1714854111.9297678"
      ]
     },
     "execution_count": 3,
     "metadata": {},
     "output_type": "execute_result"
    }
   ],
   "source": [
    "start"
   ]
  },
  {
   "cell_type": "markdown",
   "id": "56ed07d5",
   "metadata": {},
   "source": [
    "## O(1)"
   ]
  },
  {
   "cell_type": "code",
   "execution_count": 4,
   "id": "cbbe25a8",
   "metadata": {},
   "outputs": [],
   "source": [
    "def my_function(x):\n",
    "    return x ** 2"
   ]
  },
  {
   "cell_type": "code",
   "execution_count": 5,
   "id": "8c5303e4",
   "metadata": {},
   "outputs": [
    {
     "data": {
      "text/plain": [
       "25"
      ]
     },
     "execution_count": 5,
     "metadata": {},
     "output_type": "execute_result"
    }
   ],
   "source": [
    "my_function(5)"
   ]
  },
  {
   "cell_type": "code",
   "execution_count": 6,
   "id": "92b3a907",
   "metadata": {},
   "outputs": [],
   "source": [
    "end = time.time()"
   ]
  },
  {
   "cell_type": "code",
   "execution_count": 7,
   "id": "4594f0f1",
   "metadata": {},
   "outputs": [
    {
     "name": "stdout",
     "output_type": "stream",
     "text": [
      "0.008595943450927734\n"
     ]
    }
   ],
   "source": [
    "print(end - start)"
   ]
  },
  {
   "cell_type": "markdown",
   "id": "55777dc2",
   "metadata": {},
   "source": [
    "## Find a max number in the list\n",
    "\n",
    "## O(n):  number of input has not impact in our operation"
   ]
  },
  {
   "cell_type": "code",
   "execution_count": 8,
   "id": "f11efdf1",
   "metadata": {},
   "outputs": [],
   "source": [
    "start = time.time()"
   ]
  },
  {
   "cell_type": "code",
   "execution_count": 9,
   "id": "bfa1ad20",
   "metadata": {},
   "outputs": [],
   "source": [
    "def my_function_2(_list):\n",
    "    \n",
    "    _max = 0\n",
    "    for i in range(len(_list)):\n",
    "        if _list[i] > _list[_max]:\n",
    "            _max = i\n",
    "    return _list[_max]\n",
    "        "
   ]
  },
  {
   "cell_type": "code",
   "execution_count": 10,
   "id": "73645ae1",
   "metadata": {},
   "outputs": [],
   "source": [
    "b = [4, 2, 1, 7, 8, -3, 0, 2, 3, 9, 7]"
   ]
  },
  {
   "cell_type": "code",
   "execution_count": 11,
   "id": "c1262e6d",
   "metadata": {},
   "outputs": [
    {
     "data": {
      "text/plain": [
       "9"
      ]
     },
     "execution_count": 11,
     "metadata": {},
     "output_type": "execute_result"
    }
   ],
   "source": [
    "my_function_2(b)"
   ]
  },
  {
   "cell_type": "code",
   "execution_count": 12,
   "id": "cf2c23eb",
   "metadata": {},
   "outputs": [],
   "source": [
    "end = time.time()"
   ]
  },
  {
   "cell_type": "code",
   "execution_count": 13,
   "id": "d84da92d",
   "metadata": {},
   "outputs": [
    {
     "name": "stdout",
     "output_type": "stream",
     "text": [
      "0.006582975387573242\n"
     ]
    }
   ],
   "source": [
    "print(end - start)"
   ]
  },
  {
   "cell_type": "markdown",
   "id": "eb87881c",
   "metadata": {},
   "source": [
    "## Find duplicated number in a list"
   ]
  },
  {
   "cell_type": "markdown",
   "id": "25ce2313",
   "metadata": {},
   "source": [
    "## O(n^2)"
   ]
  },
  {
   "cell_type": "code",
   "execution_count": 14,
   "id": "f307044a",
   "metadata": {},
   "outputs": [],
   "source": [
    "def my_function_3(_list):\n",
    "    \n",
    "    for i in range(len(_list) - 1):\n",
    "        for j in range(i+1, len(_list)):\n",
    "            if _list[i] == _list[j]:\n",
    "                print(f'found {_list[i]}')\n",
    "            "
   ]
  },
  {
   "cell_type": "code",
   "execution_count": 15,
   "id": "bf77dcb0",
   "metadata": {},
   "outputs": [
    {
     "name": "stdout",
     "output_type": "stream",
     "text": [
      "found 2\n",
      "found 7\n"
     ]
    }
   ],
   "source": [
    "my_function_3(b)"
   ]
  },
  {
   "cell_type": "markdown",
   "id": "f7a44703",
   "metadata": {},
   "source": [
    "## Find the index in one list\n",
    "## O(n)"
   ]
  },
  {
   "cell_type": "code",
   "execution_count": 16,
   "id": "c0c29a01",
   "metadata": {},
   "outputs": [],
   "source": [
    "def find_index(_list, item):\n",
    "    for i in _list:\n",
    "        if i == item:\n",
    "            index = _list.index(item)\n",
    "            return(index)\n",
    "    "
   ]
  },
  {
   "cell_type": "code",
   "execution_count": 17,
   "id": "49b175bb",
   "metadata": {},
   "outputs": [
    {
     "data": {
      "text/plain": [
       "[4, 2, 1, 7, 8, -3, 0, 2, 3, 9, 7]"
      ]
     },
     "execution_count": 17,
     "metadata": {},
     "output_type": "execute_result"
    }
   ],
   "source": [
    "b"
   ]
  },
  {
   "cell_type": "code",
   "execution_count": 18,
   "id": "b96b0020",
   "metadata": {},
   "outputs": [
    {
     "data": {
      "text/plain": [
       "6"
      ]
     },
     "execution_count": 18,
     "metadata": {},
     "output_type": "execute_result"
    }
   ],
   "source": [
    "find_index(b, 0)"
   ]
  },
  {
   "cell_type": "markdown",
   "id": "4085bddf",
   "metadata": {},
   "source": [
    "## Find the first even number in the list\n",
    "## O(1)"
   ]
  },
  {
   "cell_type": "code",
   "execution_count": 19,
   "id": "360a06a7",
   "metadata": {},
   "outputs": [],
   "source": [
    "def show_even(_list):\n",
    "    if _list[0] % 2 == 0:\n",
    "        return 'Even'\n",
    "    else:\n",
    "        return 'Odd'\n",
    "    "
   ]
  },
  {
   "cell_type": "code",
   "execution_count": 20,
   "id": "9ef9871f",
   "metadata": {},
   "outputs": [
    {
     "data": {
      "text/plain": [
       "'Even'"
      ]
     },
     "execution_count": 20,
     "metadata": {},
     "output_type": "execute_result"
    }
   ],
   "source": [
    "show_even(b)"
   ]
  },
  {
   "cell_type": "markdown",
   "id": "e3171f4c",
   "metadata": {},
   "source": [
    "## Find the index of specific number in a list\n",
    "## O(logn)"
   ]
  },
  {
   "cell_type": "code",
   "execution_count": 21,
   "id": "71e7e4d6",
   "metadata": {},
   "outputs": [],
   "source": [
    "nums = [1, 4, 7, 10, 14, 17, 22, 47]"
   ]
  },
  {
   "cell_type": "code",
   "execution_count": 22,
   "id": "0ee4831e",
   "metadata": {},
   "outputs": [],
   "source": [
    "def show(lst, elm):\n",
    "    for i in lst:\n",
    "        if i == elm:\n",
    "            return lst.index(i)"
   ]
  },
  {
   "cell_type": "code",
   "execution_count": 23,
   "id": "f2380857",
   "metadata": {},
   "outputs": [
    {
     "data": {
      "text/plain": [
       "5"
      ]
     },
     "execution_count": 23,
     "metadata": {},
     "output_type": "execute_result"
    }
   ],
   "source": [
    "show(nums, 17)"
   ]
  },
  {
   "cell_type": "markdown",
   "id": "ec70f528",
   "metadata": {},
   "source": [
    "## Selected Sort"
   ]
  },
  {
   "cell_type": "markdown",
   "id": "15d5eec0",
   "metadata": {},
   "source": [
    "<img src='https://he-s3.s3.amazonaws.com/media/uploads/2888f5b.png'>"
   ]
  },
  {
   "cell_type": "code",
   "execution_count": 24,
   "id": "898edeba",
   "metadata": {},
   "outputs": [],
   "source": [
    "lst = [7, 5, 4, 9]"
   ]
  },
  {
   "cell_type": "code",
   "execution_count": 25,
   "id": "64d52452",
   "metadata": {},
   "outputs": [],
   "source": [
    "start = time.time()"
   ]
  },
  {
   "cell_type": "code",
   "execution_count": 125,
   "id": "a7140310",
   "metadata": {},
   "outputs": [],
   "source": [
    "for i in range(len(lst)-1):\n",
    "    _min = i\n",
    "    for j in range(i+1, len(lst)):\n",
    "        if lst[i] > lst[j]:\n",
    "            lst[i], lst[j] = lst[j], lst[i]\n",
    "        print(lst)\n",
    "        \n",
    "    plt.bar(range(len(lst), lst))\n",
    "        "
   ]
  },
  {
   "cell_type": "code",
   "execution_count": 28,
   "id": "feebd33e",
   "metadata": {},
   "outputs": [],
   "source": [
    "end = time.time()"
   ]
  },
  {
   "cell_type": "code",
   "execution_count": 29,
   "id": "15925dfa",
   "metadata": {},
   "outputs": [
    {
     "data": {
      "text/plain": [
       "22.34098219871521"
      ]
     },
     "execution_count": 29,
     "metadata": {},
     "output_type": "execute_result"
    }
   ],
   "source": [
    "end-start"
   ]
  },
  {
   "cell_type": "markdown",
   "id": "5c073809",
   "metadata": {},
   "source": [
    "## Bouble Sort : O(n2)"
   ]
  },
  {
   "cell_type": "markdown",
   "id": "140af580",
   "metadata": {},
   "source": [
    "<img src=\"https://www.w3resource.com/w3r_images/bubble-short.png\" >"
   ]
  },
  {
   "cell_type": "code",
   "execution_count": 30,
   "id": "a2d2172c",
   "metadata": {},
   "outputs": [],
   "source": [
    "import random"
   ]
  },
  {
   "cell_type": "code",
   "execution_count": 31,
   "id": "1be15681",
   "metadata": {},
   "outputs": [],
   "source": [
    "# length = 15\n",
    "# _lst = [random.randint(0, length) for i in range(length)]"
   ]
  },
  {
   "cell_type": "code",
   "execution_count": 32,
   "id": "6658696b",
   "metadata": {},
   "outputs": [],
   "source": [
    "lst = [7, 5, 4, 9, 6, 0, 4, 10, 2]"
   ]
  },
  {
   "cell_type": "code",
   "execution_count": 33,
   "id": "639cb81d",
   "metadata": {},
   "outputs": [
    {
     "name": "stdout",
     "output_type": "stream",
     "text": [
      "[0, 2, 4, 4, 5, 6, 7, 9, 10]\n"
     ]
    }
   ],
   "source": [
    "for i in range(len(lst)-1):\n",
    "    flag = True\n",
    "    \n",
    "    for j in range(len(lst) -i -1):\n",
    "        if lst[j] > lst[j+1]:\n",
    "            lst[j], lst[j+1] = lst[j+1], lst[j]\n",
    "            flag = False\n",
    "            \n",
    "    if flag:\n",
    "        break\n",
    "            \n",
    "            \n",
    "print(lst)\n",
    "            "
   ]
  },
  {
   "cell_type": "markdown",
   "id": "c6c40c92",
   "metadata": {},
   "source": [
    "## Insertion Sort : O(n^2)"
   ]
  },
  {
   "cell_type": "code",
   "execution_count": 34,
   "id": "3ec1d407",
   "metadata": {},
   "outputs": [],
   "source": [
    "from random import shuffle"
   ]
  },
  {
   "cell_type": "code",
   "execution_count": 35,
   "id": "d7706021",
   "metadata": {},
   "outputs": [],
   "source": [
    "length = 10"
   ]
  },
  {
   "cell_type": "code",
   "execution_count": 36,
   "id": "ccd90f0e",
   "metadata": {},
   "outputs": [],
   "source": [
    "lst = [random.randint(i, length) for i in range(length)]"
   ]
  },
  {
   "cell_type": "code",
   "execution_count": 37,
   "id": "2c170ad3",
   "metadata": {},
   "outputs": [
    {
     "data": {
      "text/plain": [
       "[0, 9, 2, 6, 5, 8, 10, 8, 8, 10]"
      ]
     },
     "execution_count": 37,
     "metadata": {},
     "output_type": "execute_result"
    }
   ],
   "source": [
    "lst"
   ]
  },
  {
   "cell_type": "code",
   "execution_count": 38,
   "id": "d76365df",
   "metadata": {},
   "outputs": [],
   "source": [
    "shuffle(lst)"
   ]
  },
  {
   "cell_type": "code",
   "execution_count": 39,
   "id": "c254fcf0",
   "metadata": {},
   "outputs": [
    {
     "data": {
      "text/plain": [
       "[8, 9, 0, 2, 5, 8, 10, 10, 8, 6]"
      ]
     },
     "execution_count": 39,
     "metadata": {},
     "output_type": "execute_result"
    }
   ],
   "source": [
    "lst"
   ]
  },
  {
   "cell_type": "code",
   "execution_count": 40,
   "id": "a1939d4a",
   "metadata": {},
   "outputs": [],
   "source": [
    "lst_1 = [3, 2, 1, 4]"
   ]
  },
  {
   "cell_type": "code",
   "execution_count": 41,
   "id": "cba11a0d",
   "metadata": {},
   "outputs": [],
   "source": [
    "shuffle(lst_1)"
   ]
  },
  {
   "cell_type": "code",
   "execution_count": 42,
   "id": "9d02fbf3",
   "metadata": {},
   "outputs": [
    {
     "data": {
      "text/plain": [
       "[1, 4, 3, 2]"
      ]
     },
     "execution_count": 42,
     "metadata": {},
     "output_type": "execute_result"
    }
   ],
   "source": [
    "lst_1"
   ]
  },
  {
   "cell_type": "markdown",
   "id": "1a488e79",
   "metadata": {},
   "source": [
    "### First Method (space complexity = O(n^2))"
   ]
  },
  {
   "cell_type": "code",
   "execution_count": 126,
   "id": "684255db",
   "metadata": {},
   "outputs": [],
   "source": [
    "lst_2 = []\n",
    "for i in lst_1:    \n",
    "    for j in range(len(lst_2)):\n",
    "        if i < lst_2[j]:\n",
    "            lst_2.insert(j, i)\n",
    "            break\n",
    "                \n",
    "    else:\n",
    "        lst_2.append(i)\n",
    "        \n",
    "                "
   ]
  },
  {
   "cell_type": "code",
   "execution_count": 127,
   "id": "e6c6511a",
   "metadata": {},
   "outputs": [
    {
     "data": {
      "text/plain": [
       "[3, 5, 6, 6, 6, 7, 8, 8, 9, 9]"
      ]
     },
     "execution_count": 127,
     "metadata": {},
     "output_type": "execute_result"
    }
   ],
   "source": [
    "lst_2"
   ]
  },
  {
   "cell_type": "markdown",
   "id": "7f5a0c94",
   "metadata": {},
   "source": [
    "### Second Method (space complexity = O(1))"
   ]
  },
  {
   "cell_type": "markdown",
   "id": "373e363a",
   "metadata": {},
   "source": [
    "<img src='https://miro.medium.com/v2/resize:fit:765/0*1zi2XtjiLXa3LYZh.PNG'>"
   ]
  },
  {
   "cell_type": "code",
   "execution_count": 45,
   "id": "f5ff9264",
   "metadata": {},
   "outputs": [],
   "source": [
    "lst_1 = [6, 5, 9, 8, 6, 9, 8, 7, 3, 6]"
   ]
  },
  {
   "cell_type": "code",
   "execution_count": 46,
   "id": "8a650d45",
   "metadata": {},
   "outputs": [],
   "source": [
    "for i in range(1, len(lst_1)):\n",
    "    for j in range(i):\n",
    "        if lst_1[i] < lst_1[j]:\n",
    "            temp = lst_1[i]\n",
    "            del lst_1[i]\n",
    "            lst_1.insert(j, temp)\n",
    "            break\n",
    "            "
   ]
  },
  {
   "cell_type": "code",
   "execution_count": 47,
   "id": "b5f00430",
   "metadata": {},
   "outputs": [
    {
     "data": {
      "text/plain": [
       "[3, 5, 6, 6, 6, 7, 8, 8, 9, 9]"
      ]
     },
     "execution_count": 47,
     "metadata": {},
     "output_type": "execute_result"
    }
   ],
   "source": [
    "lst_1"
   ]
  },
  {
   "cell_type": "markdown",
   "id": "ae9b4dca",
   "metadata": {},
   "source": [
    "## Merg Algorithem"
   ]
  },
  {
   "cell_type": "code",
   "execution_count": 48,
   "id": "03a3c362",
   "metadata": {},
   "outputs": [],
   "source": [
    "lst1 = [0, 2, 4, 5, 6, 8]\n",
    "lst2 = [0, 1, 2, 2, 8, 9, 13]"
   ]
  },
  {
   "cell_type": "code",
   "execution_count": 49,
   "id": "704c5a22",
   "metadata": {},
   "outputs": [],
   "source": [
    "def merge(lst1, lst2):\n",
    "    \n",
    "    lst3 = []    \n",
    "    i = j = 0\n",
    "\n",
    "    while i < len(lst1) and j < len(lst2):\n",
    "        if lst1[i] < lst2[j]:\n",
    "            lst3.append(lst1[i])\n",
    "            i += 1\n",
    "\n",
    "        else:\n",
    "            lst3.append(lst2[j])\n",
    "            j += 1\n",
    "\n",
    "    lst3 += lst1[i:]\n",
    "    lst3 += lst2[j:]\n",
    "    return lst3\n"
   ]
  },
  {
   "cell_type": "code",
   "execution_count": 50,
   "id": "0632dcd0",
   "metadata": {},
   "outputs": [
    {
     "data": {
      "text/plain": [
       "[0, 0, 1, 2, 2, 2, 4, 5, 6, 8, 8, 9, 13]"
      ]
     },
     "execution_count": 50,
     "metadata": {},
     "output_type": "execute_result"
    }
   ],
   "source": [
    "merge(lst1, lst2)"
   ]
  },
  {
   "cell_type": "code",
   "execution_count": 51,
   "id": "be475d4c",
   "metadata": {},
   "outputs": [],
   "source": [
    "_list = [i for i in range(10)]\n",
    "shuffle(_list)"
   ]
  },
  {
   "cell_type": "code",
   "execution_count": 52,
   "id": "8347ab44",
   "metadata": {},
   "outputs": [
    {
     "data": {
      "text/plain": [
       "[2, 6, 7, 9, 0, 8, 1, 4, 5, 3]"
      ]
     },
     "execution_count": 52,
     "metadata": {},
     "output_type": "execute_result"
    }
   ],
   "source": [
    "_list"
   ]
  },
  {
   "cell_type": "code",
   "execution_count": 53,
   "id": "a7616804",
   "metadata": {},
   "outputs": [],
   "source": [
    "def sort_merge(lst):\n",
    "    \n",
    "    if len(lst) == 1:\n",
    "        return lst\n",
    "    \n",
    "    else:\n",
    "        mid = len(lst) // 2\n",
    "        left = lst[:mid]\n",
    "        right = lst[mid:]\n",
    "        \n",
    "    left = sort_merge(left)\n",
    "    right = sort_merge(right)\n",
    "    \n",
    "    return(merge(left, right))\n",
    "    "
   ]
  },
  {
   "cell_type": "code",
   "execution_count": 54,
   "id": "83ef194f",
   "metadata": {},
   "outputs": [
    {
     "data": {
      "text/plain": [
       "[0, 1, 2, 3, 4, 5, 6, 7, 8, 9]"
      ]
     },
     "execution_count": 54,
     "metadata": {},
     "output_type": "execute_result"
    }
   ],
   "source": [
    "sort_merge(_list)"
   ]
  },
  {
   "cell_type": "markdown",
   "id": "c72f0eff",
   "metadata": {},
   "source": [
    "## Quick Sort O(nlog(n))"
   ]
  },
  {
   "cell_type": "code",
   "execution_count": 55,
   "id": "ac94c7aa",
   "metadata": {},
   "outputs": [],
   "source": [
    "lst = [i for i in range(10)]"
   ]
  },
  {
   "cell_type": "code",
   "execution_count": 56,
   "id": "a6905860",
   "metadata": {},
   "outputs": [],
   "source": [
    "lst = [3, 4, 5, 6, 9, 1]"
   ]
  },
  {
   "cell_type": "code",
   "execution_count": 128,
   "id": "31110813",
   "metadata": {},
   "outputs": [],
   "source": [
    "def quick_sort(_list, low, high):\n",
    "    if low < high:\n",
    "        pivot = low\n",
    "        i = low \n",
    "        j = high\n",
    "        \n",
    "        while i < j:\n",
    "            while _list[i] <= _list[pivot] and i < high:\n",
    "                i+=1\n",
    "              \n",
    "            while _list[j] > _list[pivot]:\n",
    "                j-=1\n",
    "\n",
    "                \n",
    "            if i<j:\n",
    "                _list[i], _list[j] = _list[j], _list[i]\n",
    "\n",
    "                \n",
    "        _list[j], _list[pivot] = _list[pivot], _list[j]\n",
    "        \n",
    "        quick_sort(_list, low, j-1)\n",
    "        quick_sort(_list, j+1, high)\n",
    "        \n",
    "    return _list\n",
    "            "
   ]
  },
  {
   "cell_type": "markdown",
   "id": "7cecbc79",
   "metadata": {},
   "source": [
    "# lst = [3, 4, 5, 6, 9, 1]"
   ]
  },
  {
   "cell_type": "code",
   "execution_count": 129,
   "id": "d0bb8ab9",
   "metadata": {},
   "outputs": [
    {
     "data": {
      "text/plain": [
       "[1, 3, 5, 6, 7, 9, 10]"
      ]
     },
     "execution_count": 129,
     "metadata": {},
     "output_type": "execute_result"
    }
   ],
   "source": [
    "quick_sort(lst, 0, len(lst)-1)"
   ]
  },
  {
   "cell_type": "markdown",
   "id": "f548bb8f",
   "metadata": {},
   "source": [
    "## Linear Search O(n)"
   ]
  },
  {
   "cell_type": "markdown",
   "id": "99219e24",
   "metadata": {},
   "source": [
    "<img src=\"https://media.geeksforgeeks.org/wp-content/cdn-uploads/Linear-Search.png\">"
   ]
  },
  {
   "cell_type": "code",
   "execution_count": 59,
   "id": "a98a67b7",
   "metadata": {},
   "outputs": [],
   "source": [
    "lst = [2, 1, 5, 8, 3, 9, 4, 6, 5]"
   ]
  },
  {
   "cell_type": "code",
   "execution_count": 130,
   "id": "9d4154de",
   "metadata": {},
   "outputs": [
    {
     "name": "stdout",
     "output_type": "stream",
     "text": [
      "Enter the number7\n"
     ]
    }
   ],
   "source": [
    " k = int(input(\"Enter the number\"))"
   ]
  },
  {
   "cell_type": "code",
   "execution_count": 131,
   "id": "55fd357a",
   "metadata": {},
   "outputs": [
    {
     "name": "stdout",
     "output_type": "stream",
     "text": [
      "Found\n"
     ]
    }
   ],
   "source": [
    "for i in lst:\n",
    "    if i == k:\n",
    "        print('Found')\n",
    "        break\n",
    "else:\n",
    "    print('Not Found')"
   ]
  },
  {
   "cell_type": "markdown",
   "id": "28596b8e",
   "metadata": {},
   "source": [
    "## Binary Search O(nlog(n)) (for sorted list)"
   ]
  },
  {
   "cell_type": "markdown",
   "id": "5a18ed14",
   "metadata": {},
   "source": [
    "<img src=\"https://media.geeksforgeeks.org/wp-content/uploads/20220309171621/BinarySearch.png\">"
   ]
  },
  {
   "cell_type": "code",
   "execution_count": 62,
   "id": "c8bc051f",
   "metadata": {},
   "outputs": [],
   "source": [
    "lst = [1, 3, 5, 6, 7, 9, 10]"
   ]
  },
  {
   "cell_type": "code",
   "execution_count": 63,
   "id": "fff97857",
   "metadata": {},
   "outputs": [],
   "source": [
    "def binary_search(_list, k):\n",
    "    if len(_list) < 2:\n",
    "        if _list[0] < k:\n",
    "            return 'Found'\n",
    "        else:\n",
    "            return 'Not Found'\n",
    "        \n",
    "    else:\n",
    "        mid = len(_list) // 2\n",
    "        \n",
    "        if _list[mid]==k:\n",
    "            return 'Found'\n",
    "            \n",
    "        elif _list[mid] < k:\n",
    "            return binary_search(_list[:mid], k)\n",
    "        else:\n",
    "            return binary_search(_list[mid:], k)\n",
    "        "
   ]
  },
  {
   "cell_type": "code",
   "execution_count": 64,
   "id": "74862cdb",
   "metadata": {},
   "outputs": [
    {
     "data": {
      "text/plain": [
       "'Not Found'"
      ]
     },
     "execution_count": 64,
     "metadata": {},
     "output_type": "execute_result"
    }
   ],
   "source": [
    "binary_search(lst, 4)"
   ]
  },
  {
   "cell_type": "markdown",
   "id": "b3440dce",
   "metadata": {},
   "source": [
    "## stack( Last Input | First Output)"
   ]
  },
  {
   "cell_type": "markdown",
   "id": "6643e1fd",
   "metadata": {},
   "source": [
    "<img src=\"https://media.geeksforgeeks.org/wp-content/cdn-uploads/20230726165552/Stack-Data-Structure.png\">"
   ]
  },
  {
   "cell_type": "code",
   "execution_count": 65,
   "id": "9ebaeb7d",
   "metadata": {},
   "outputs": [],
   "source": [
    "stack = []\n",
    "\n",
    "stack.insert(0, 4)\n",
    "stack.insert(0, 6)\n",
    "stack.insert(0, 8)"
   ]
  },
  {
   "cell_type": "code",
   "execution_count": 66,
   "id": "2acffde2",
   "metadata": {},
   "outputs": [
    {
     "data": {
      "text/plain": [
       "[8, 6, 4]"
      ]
     },
     "execution_count": 66,
     "metadata": {},
     "output_type": "execute_result"
    }
   ],
   "source": [
    "stack"
   ]
  },
  {
   "cell_type": "code",
   "execution_count": 67,
   "id": "98a4f155",
   "metadata": {},
   "outputs": [
    {
     "data": {
      "text/plain": [
       "4"
      ]
     },
     "execution_count": 67,
     "metadata": {},
     "output_type": "execute_result"
    }
   ],
   "source": [
    "stack.pop()"
   ]
  },
  {
   "cell_type": "code",
   "execution_count": 68,
   "id": "8efd3cbb",
   "metadata": {},
   "outputs": [
    {
     "data": {
      "text/plain": [
       "[8, 6]"
      ]
     },
     "execution_count": 68,
     "metadata": {},
     "output_type": "execute_result"
    }
   ],
   "source": [
    "stack"
   ]
  },
  {
   "cell_type": "code",
   "execution_count": 70,
   "id": "d0fcef64",
   "metadata": {},
   "outputs": [],
   "source": [
    "from collections import deque \n",
    "from loguru import logger"
   ]
  },
  {
   "cell_type": "code",
   "execution_count": 71,
   "id": "eb5f22be",
   "metadata": {},
   "outputs": [],
   "source": [
    "my_stack = deque()"
   ]
  },
  {
   "cell_type": "code",
   "execution_count": 72,
   "id": "f85454a6",
   "metadata": {},
   "outputs": [
    {
     "data": {
      "text/plain": [
       "collections.deque"
      ]
     },
     "execution_count": 72,
     "metadata": {},
     "output_type": "execute_result"
    }
   ],
   "source": [
    "type(my_stack)"
   ]
  },
  {
   "cell_type": "code",
   "execution_count": 116,
   "id": "47359496",
   "metadata": {},
   "outputs": [],
   "source": [
    "class CustomStack():\n",
    "    def __init__(self):\n",
    "        self.container = deque()\n",
    "        \n",
    "    def push(self, val):\n",
    "        \n",
    "        self.container.append(val)\n",
    "        return\n",
    "    \n",
    "    def pop(self):\n",
    "        try:\n",
    "            self.container.pop()\n",
    "        except:\n",
    "            logger.info('Stack is empty')\n",
    "            \n",
    "    def peek(self):\n",
    "        if self.container:\n",
    "            return self.container[-1]\n",
    "            \n",
    "        else:\n",
    "            logger.info('Stack is empty')\n",
    "            \n",
    "    def isempty(self):\n",
    "        if len(self.container) == 0:\n",
    "            return True\n",
    "        else:\n",
    "            return False\n",
    "        \n",
    "    def __len__(self):\n",
    "        return len(self.container)\n",
    "        \n",
    "    def __repr__(self):\n",
    "        return f\"{self.container}\"\n",
    "       "
   ]
  },
  {
   "cell_type": "code",
   "execution_count": 117,
   "id": "ee87e6bc",
   "metadata": {},
   "outputs": [],
   "source": [
    "stack = CustomStack()"
   ]
  },
  {
   "cell_type": "code",
   "execution_count": 120,
   "id": "5c2ff65b",
   "metadata": {},
   "outputs": [],
   "source": [
    "stack.push(8)"
   ]
  },
  {
   "cell_type": "code",
   "execution_count": 113,
   "id": "2286bce3",
   "metadata": {},
   "outputs": [
    {
     "data": {
      "text/plain": [
       "deque([6, 7, 2])"
      ]
     },
     "execution_count": 113,
     "metadata": {},
     "output_type": "execute_result"
    }
   ],
   "source": [
    "stack"
   ]
  },
  {
   "cell_type": "code",
   "execution_count": 98,
   "id": "623b524c",
   "metadata": {},
   "outputs": [],
   "source": [
    "stack.pop()"
   ]
  },
  {
   "cell_type": "code",
   "execution_count": 121,
   "id": "bb1f9326",
   "metadata": {},
   "outputs": [
    {
     "data": {
      "text/plain": [
       "8"
      ]
     },
     "execution_count": 121,
     "metadata": {},
     "output_type": "execute_result"
    }
   ],
   "source": [
    "stack.peek()"
   ]
  },
  {
   "cell_type": "code",
   "execution_count": 122,
   "id": "c226af38",
   "metadata": {},
   "outputs": [
    {
     "data": {
      "text/plain": [
       "False"
      ]
     },
     "execution_count": 122,
     "metadata": {},
     "output_type": "execute_result"
    }
   ],
   "source": [
    "stack.isempty()"
   ]
  },
  {
   "cell_type": "markdown",
   "id": "4bab523a",
   "metadata": {},
   "source": [
    "## Queue (FIFO)"
   ]
  },
  {
   "cell_type": "markdown",
   "id": "998b2a30",
   "metadata": {},
   "source": [
    "<img src=\"https://media.geeksforgeeks.org/wp-content/cdn-uploads/20221213113312/Queue-Data-Structures.png\">"
   ]
  },
  {
   "cell_type": "code",
   "execution_count": 132,
   "id": "b9f97b3a",
   "metadata": {},
   "outputs": [],
   "source": [
    "que = []\n",
    "que.insert(0, 4)\n",
    "que.insert(0, 7)\n",
    "que.insert(0, 8)"
   ]
  },
  {
   "cell_type": "code",
   "execution_count": 133,
   "id": "b72d51cc",
   "metadata": {},
   "outputs": [
    {
     "data": {
      "text/plain": [
       "[8, 7, 4]"
      ]
     },
     "execution_count": 133,
     "metadata": {},
     "output_type": "execute_result"
    }
   ],
   "source": [
    "que"
   ]
  },
  {
   "cell_type": "code",
   "execution_count": 134,
   "id": "fd0da989",
   "metadata": {},
   "outputs": [
    {
     "data": {
      "text/plain": [
       "4"
      ]
     },
     "execution_count": 134,
     "metadata": {},
     "output_type": "execute_result"
    }
   ],
   "source": [
    "que.pop()"
   ]
  },
  {
   "cell_type": "code",
   "execution_count": 182,
   "id": "4ff4a5ee",
   "metadata": {},
   "outputs": [],
   "source": [
    "class CQueue:\n",
    "    def __init__(self):\n",
    "        self.container = deque()\n",
    "        \n",
    "    def enqueue(self, val):\n",
    "        return self.container.appendleft(val)\n",
    "    \n",
    "    def dequeue(self):\n",
    "        try:\n",
    "            return self.container.pop()\n",
    "            \n",
    "        except:\n",
    "            logger.info('Queue is empty')\n",
    "            \n",
    "    def peek(self):\n",
    "        try:\n",
    "            return self.container[-1]\n",
    "        except:\n",
    "            logger.info('Queue is empty')\n",
    "            \n",
    "    def isempty(self):\n",
    "        if len(self.container) == 0:\n",
    "            return True\n",
    "        else:\n",
    "            return False\n",
    "            \n",
    "    def __repr__(self):\n",
    "        return f'{self.container}'\n",
    "    \n",
    "    def __len__(self):\n",
    "        return len(self.container)\n",
    "            \n",
    "   \n"
   ]
  },
  {
   "cell_type": "code",
   "execution_count": 183,
   "id": "d4e4d5b0",
   "metadata": {},
   "outputs": [],
   "source": [
    "que = CQueue()"
   ]
  },
  {
   "cell_type": "code",
   "execution_count": 184,
   "id": "dad1f2e6",
   "metadata": {},
   "outputs": [],
   "source": [
    "que.enqueue(10)\n",
    "que.enqueue(11)\n",
    "que.enqueue(12)"
   ]
  },
  {
   "cell_type": "code",
   "execution_count": 185,
   "id": "50e1355a",
   "metadata": {},
   "outputs": [
    {
     "data": {
      "text/plain": [
       "deque([12, 11, 10])"
      ]
     },
     "execution_count": 185,
     "metadata": {},
     "output_type": "execute_result"
    }
   ],
   "source": [
    "que"
   ]
  },
  {
   "cell_type": "code",
   "execution_count": 186,
   "id": "efe15302",
   "metadata": {},
   "outputs": [
    {
     "data": {
      "text/plain": [
       "10"
      ]
     },
     "execution_count": 186,
     "metadata": {},
     "output_type": "execute_result"
    }
   ],
   "source": [
    "que.dequeue()"
   ]
  },
  {
   "cell_type": "code",
   "execution_count": 187,
   "id": "bce34a78",
   "metadata": {},
   "outputs": [
    {
     "data": {
      "text/plain": [
       "False"
      ]
     },
     "execution_count": 187,
     "metadata": {},
     "output_type": "execute_result"
    }
   ],
   "source": [
    "que.isempty()"
   ]
  },
  {
   "cell_type": "code",
   "execution_count": 188,
   "id": "9a7a60cd",
   "metadata": {},
   "outputs": [
    {
     "data": {
      "text/plain": [
       "2"
      ]
     },
     "execution_count": 188,
     "metadata": {},
     "output_type": "execute_result"
    }
   ],
   "source": [
    "len(que)"
   ]
  },
  {
   "cell_type": "markdown",
   "id": "98451dad",
   "metadata": {},
   "source": [
    "## Linked List"
   ]
  },
  {
   "cell_type": "markdown",
   "id": "db04de99",
   "metadata": {},
   "source": [
    "<img src='https://media.geeksforgeeks.org/wp-content/cdn-uploads/20200922124319/Singly-Linked-List1.png'>"
   ]
  },
  {
   "cell_type": "code",
   "execution_count": 189,
   "id": "f936db06",
   "metadata": {},
   "outputs": [],
   "source": [
    "a = 3\n",
    "b = 5\n",
    "c = 9"
   ]
  },
  {
   "cell_type": "code",
   "execution_count": 456,
   "id": "5b941c95",
   "metadata": {},
   "outputs": [],
   "source": [
    "class Node:\n",
    "    def __init__(self, data):\n",
    "        self.data = data\n",
    "        self.next = None\n",
    "        \n",
    "    def __repr__(self):\n",
    "        return f'{self.data}'\n",
    "        \n",
    "class LinkedList:\n",
    "    def __init__(self):\n",
    "        self.head = None\n",
    "        self.length = 0\n",
    "        \n",
    "    def append(self, data):\n",
    "        new_data = Node(data)\n",
    "        temp = self.head\n",
    "        \n",
    "        while temp.next:\n",
    "            temp = temp.next\n",
    "\n",
    "        else:\n",
    "            temp.next = new_data\n",
    "        self.length += 1\n",
    "                    \n",
    "        \n",
    "    def push(self, data):\n",
    "        new_data = Node(data)\n",
    "        new_data.next = self.head\n",
    "        self.head = new_data\n",
    "        self.length += 1\n",
    "        \n",
    "        \n",
    "    def pop(self, index=-1):\n",
    "        if index == -1:\n",
    "            temp = self.head\n",
    "            while temp.next.next:\n",
    "                temp = temp.next\n",
    "            data = temp.next.data\n",
    "            temp.next = None\n",
    "            self.length -= 1\n",
    "            return data\n",
    "                \n",
    "                \n",
    "        elif index == 0:\n",
    "            temp = self.head\n",
    "            data = temp.data\n",
    "            temp = temp.next\n",
    "            self.head = temp\n",
    "            self.length -= 1\n",
    "            return data\n",
    "            \n",
    "            \n",
    "            \n",
    "        else:\n",
    "            temp = self.head\n",
    "            index -= 1\n",
    "            while index:\n",
    "                temp = temp.next\n",
    "                index -= 1\n",
    "            data = temp.next.data    \n",
    "            temp.next = temp.next.next\n",
    "            self.length -= 1\n",
    "            return data\n",
    "                              \n",
    "        \n",
    "        \n",
    "    def insert(self, index, data):\n",
    "        if index <= 0:\n",
    "            return self.push(data)\n",
    "        \n",
    "        elif index >= self.length - 1:\n",
    "            return self.append(data)        \n",
    "        \n",
    "        else:\n",
    "            pre = temp = self.head\n",
    "            while index:\n",
    "                \n",
    "                pre = temp\n",
    "                temp = temp.next\n",
    "                index -= 1\n",
    "            else:\n",
    "                new_node = Node(data)\n",
    "                new_node.next = temp\n",
    "                pre.next = new_node\n",
    "                self.length +=1        \n",
    "                \n",
    "        \n",
    "    def isempty(self):\n",
    "        return self.length == 0\n",
    "        \n",
    "        \n",
    "    def __len__(self):\n",
    "        return self.length\n",
    "        \n",
    "    def __repr__(self):\n",
    "        _str = \" \"\n",
    "        temp = self.head\n",
    "        \n",
    "        while temp.next:\n",
    "            _str += str(temp.data) + '-->'\n",
    "            temp = temp.next\n",
    "        else:\n",
    "            _str += str(temp.data)\n",
    "        return _str"
   ]
  },
  {
   "cell_type": "code",
   "execution_count": 468,
   "id": "1365b441",
   "metadata": {},
   "outputs": [],
   "source": [
    "ll = LinkedList()"
   ]
  },
  {
   "cell_type": "code",
   "execution_count": 469,
   "id": "22c61a4b",
   "metadata": {},
   "outputs": [
    {
     "data": {
      "text/plain": [
       "True"
      ]
     },
     "execution_count": 469,
     "metadata": {},
     "output_type": "execute_result"
    }
   ],
   "source": [
    "ll.isempty()"
   ]
  },
  {
   "cell_type": "code",
   "execution_count": 470,
   "id": "61ffe20c",
   "metadata": {},
   "outputs": [],
   "source": [
    "ll.push(4)\n",
    "ll.push(8)\n",
    "ll.push(10)"
   ]
  },
  {
   "cell_type": "code",
   "execution_count": 471,
   "id": "27903fc9",
   "metadata": {},
   "outputs": [
    {
     "data": {
      "text/plain": [
       " 10-->8-->4"
      ]
     },
     "execution_count": 471,
     "metadata": {},
     "output_type": "execute_result"
    }
   ],
   "source": [
    "ll"
   ]
  },
  {
   "cell_type": "code",
   "execution_count": 472,
   "id": "24874002",
   "metadata": {},
   "outputs": [],
   "source": [
    "ll.append(19)"
   ]
  },
  {
   "cell_type": "code",
   "execution_count": 473,
   "id": "301d9afe",
   "metadata": {},
   "outputs": [
    {
     "data": {
      "text/plain": [
       " 10-->8-->4-->19"
      ]
     },
     "execution_count": 473,
     "metadata": {},
     "output_type": "execute_result"
    }
   ],
   "source": [
    "ll"
   ]
  },
  {
   "cell_type": "code",
   "execution_count": 474,
   "id": "b9d95f55",
   "metadata": {},
   "outputs": [],
   "source": [
    "ll.insert(7, 20)"
   ]
  },
  {
   "cell_type": "code",
   "execution_count": 475,
   "id": "174184ed",
   "metadata": {},
   "outputs": [],
   "source": [
    "ll.insert(-1, 30)"
   ]
  },
  {
   "cell_type": "code",
   "execution_count": 476,
   "id": "4f8cc45f",
   "metadata": {},
   "outputs": [
    {
     "data": {
      "text/plain": [
       " 30-->10-->8-->4-->19-->20"
      ]
     },
     "execution_count": 476,
     "metadata": {},
     "output_type": "execute_result"
    }
   ],
   "source": [
    "ll"
   ]
  },
  {
   "cell_type": "code",
   "execution_count": 477,
   "id": "2cec2119",
   "metadata": {},
   "outputs": [
    {
     "data": {
      "text/plain": [
       "19"
      ]
     },
     "execution_count": 477,
     "metadata": {},
     "output_type": "execute_result"
    }
   ],
   "source": [
    "ll.pop(index=4)"
   ]
  },
  {
   "cell_type": "code",
   "execution_count": 432,
   "id": "32ba4e00",
   "metadata": {},
   "outputs": [
    {
     "data": {
      "text/plain": [
       "3"
      ]
     },
     "execution_count": 432,
     "metadata": {},
     "output_type": "execute_result"
    }
   ],
   "source": [
    "ll.length"
   ]
  },
  {
   "cell_type": "code",
   "execution_count": 401,
   "id": "8fc0b5f5",
   "metadata": {},
   "outputs": [
    {
     "data": {
      "text/plain": [
       "7"
      ]
     },
     "execution_count": 401,
     "metadata": {},
     "output_type": "execute_result"
    }
   ],
   "source": [
    "len(ll)"
   ]
  },
  {
   "cell_type": "code",
   "execution_count": 379,
   "id": "1a644817",
   "metadata": {},
   "outputs": [
    {
     "data": {
      "text/plain": [
       "False"
      ]
     },
     "execution_count": 379,
     "metadata": {},
     "output_type": "execute_result"
    }
   ],
   "source": [
    "ll.isempty()"
   ]
  },
  {
   "cell_type": "code",
   "execution_count": null,
   "id": "4ccf204b",
   "metadata": {},
   "outputs": [],
   "source": []
  },
  {
   "cell_type": "code",
   "execution_count": null,
   "id": "283f6051",
   "metadata": {},
   "outputs": [],
   "source": []
  },
  {
   "cell_type": "markdown",
   "id": "fe6f4a8b",
   "metadata": {},
   "source": [
    "<img src='ksforgeeks.org/wp-content/uploads/anod.png'>"
   ]
  }
 ],
 "metadata": {
  "kernelspec": {
   "display_name": "Python 3 (ipykernel)",
   "language": "python",
   "name": "python3"
  },
  "language_info": {
   "codemirror_mode": {
    "name": "ipython",
    "version": 3
   },
   "file_extension": ".py",
   "mimetype": "text/x-python",
   "name": "python",
   "nbconvert_exporter": "python",
   "pygments_lexer": "ipython3",
   "version": "3.11.7"
  }
 },
 "nbformat": 4,
 "nbformat_minor": 5
}
