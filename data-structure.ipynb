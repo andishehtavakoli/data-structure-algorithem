{
 "cells": [
  {
   "cell_type": "markdown",
   "id": "e8e327d4",
   "metadata": {},
   "source": [
    "## Complexity: Time , Space"
   ]
  },
  {
   "cell_type": "code",
   "execution_count": 17,
   "id": "04ceb167",
   "metadata": {},
   "outputs": [],
   "source": [
    "import time\n",
    "import matplotlib.pyplot as plt"
   ]
  },
  {
   "cell_type": "code",
   "execution_count": 12,
   "id": "ed46961e",
   "metadata": {},
   "outputs": [],
   "source": [
    "start = time.time()"
   ]
  },
  {
   "cell_type": "code",
   "execution_count": 13,
   "id": "5317fe27",
   "metadata": {},
   "outputs": [
    {
     "data": {
      "text/plain": [
       "1714354230.136831"
      ]
     },
     "execution_count": 13,
     "metadata": {},
     "output_type": "execute_result"
    }
   ],
   "source": [
    "start"
   ]
  },
  {
   "cell_type": "markdown",
   "id": "56ed07d5",
   "metadata": {},
   "source": [
    "## O(1)"
   ]
  },
  {
   "cell_type": "code",
   "execution_count": 14,
   "id": "cbbe25a8",
   "metadata": {},
   "outputs": [],
   "source": [
    "def my_function(x):\n",
    "    return x ** 2"
   ]
  },
  {
   "cell_type": "code",
   "execution_count": 15,
   "id": "8c5303e4",
   "metadata": {},
   "outputs": [
    {
     "data": {
      "text/plain": [
       "25"
      ]
     },
     "execution_count": 15,
     "metadata": {},
     "output_type": "execute_result"
    }
   ],
   "source": [
    "my_function(5)"
   ]
  },
  {
   "cell_type": "code",
   "execution_count": 16,
   "id": "92b3a907",
   "metadata": {},
   "outputs": [],
   "source": [
    "end = time.time()"
   ]
  },
  {
   "cell_type": "code",
   "execution_count": 17,
   "id": "4594f0f1",
   "metadata": {},
   "outputs": [
    {
     "name": "stdout",
     "output_type": "stream",
     "text": [
      "7.157058000564575\n"
     ]
    }
   ],
   "source": [
    "print(end - start)"
   ]
  },
  {
   "cell_type": "markdown",
   "id": "55777dc2",
   "metadata": {},
   "source": [
    "## Find a max number in the list\n",
    "\n",
    "## O(n):  number of input has not impact in our operation"
   ]
  },
  {
   "cell_type": "code",
   "execution_count": 46,
   "id": "f11efdf1",
   "metadata": {},
   "outputs": [],
   "source": [
    "start = time.time()"
   ]
  },
  {
   "cell_type": "code",
   "execution_count": 47,
   "id": "bfa1ad20",
   "metadata": {},
   "outputs": [],
   "source": [
    "def my_function_2(_list):\n",
    "    \n",
    "    _max = 0\n",
    "    for i in range(len(_list)):\n",
    "        if _list[i] > _list[_max]:\n",
    "            _max = i\n",
    "    return _list[_max]\n",
    "        "
   ]
  },
  {
   "cell_type": "code",
   "execution_count": 48,
   "id": "73645ae1",
   "metadata": {},
   "outputs": [],
   "source": [
    "b = [4, 2, 1, 7, 8, -3, 0, 2, 3, 9, 7]"
   ]
  },
  {
   "cell_type": "code",
   "execution_count": 49,
   "id": "c1262e6d",
   "metadata": {},
   "outputs": [
    {
     "data": {
      "text/plain": [
       "9"
      ]
     },
     "execution_count": 49,
     "metadata": {},
     "output_type": "execute_result"
    }
   ],
   "source": [
    "my_function_2(b)"
   ]
  },
  {
   "cell_type": "code",
   "execution_count": 50,
   "id": "cf2c23eb",
   "metadata": {},
   "outputs": [],
   "source": [
    "end = time.time()"
   ]
  },
  {
   "cell_type": "code",
   "execution_count": 51,
   "id": "d84da92d",
   "metadata": {},
   "outputs": [
    {
     "name": "stdout",
     "output_type": "stream",
     "text": [
      "2.1600468158721924\n"
     ]
    }
   ],
   "source": [
    "print(end - start)"
   ]
  },
  {
   "cell_type": "markdown",
   "id": "eb87881c",
   "metadata": {},
   "source": [
    "## Find duplicated number in a list"
   ]
  },
  {
   "cell_type": "markdown",
   "id": "25ce2313",
   "metadata": {},
   "source": [
    "## O(n^2)"
   ]
  },
  {
   "cell_type": "code",
   "execution_count": 59,
   "id": "f307044a",
   "metadata": {},
   "outputs": [],
   "source": [
    "def my_function_3(_list):\n",
    "    \n",
    "    for i in range(len(_list) - 1):\n",
    "        for j in range(i+1, len(_list)):\n",
    "            if _list[i] == _list[j]:\n",
    "                print(f'found {_list[i]}')\n",
    "            "
   ]
  },
  {
   "cell_type": "code",
   "execution_count": 61,
   "id": "bf77dcb0",
   "metadata": {},
   "outputs": [
    {
     "name": "stdout",
     "output_type": "stream",
     "text": [
      "found 2\n",
      "found 7\n"
     ]
    }
   ],
   "source": [
    "my_function_3(b)"
   ]
  },
  {
   "cell_type": "markdown",
   "id": "f7a44703",
   "metadata": {},
   "source": [
    "## Find the index in one list\n",
    "## O(n)"
   ]
  },
  {
   "cell_type": "code",
   "execution_count": 74,
   "id": "c0c29a01",
   "metadata": {},
   "outputs": [],
   "source": [
    "def find_index(_list, item):\n",
    "    for i in _list:\n",
    "        if i == item:\n",
    "            index = _list.index(item)\n",
    "            return(index)\n",
    "    "
   ]
  },
  {
   "cell_type": "code",
   "execution_count": 75,
   "id": "49b175bb",
   "metadata": {},
   "outputs": [
    {
     "data": {
      "text/plain": [
       "[4, 2, 1, 7, 8, -3, 0, 2, 3, 9, 7]"
      ]
     },
     "execution_count": 75,
     "metadata": {},
     "output_type": "execute_result"
    }
   ],
   "source": [
    "b"
   ]
  },
  {
   "cell_type": "code",
   "execution_count": 76,
   "id": "b96b0020",
   "metadata": {},
   "outputs": [
    {
     "data": {
      "text/plain": [
       "6"
      ]
     },
     "execution_count": 76,
     "metadata": {},
     "output_type": "execute_result"
    }
   ],
   "source": [
    "find_index(b, 0)"
   ]
  },
  {
   "cell_type": "markdown",
   "id": "4085bddf",
   "metadata": {},
   "source": [
    "## Find the first even number in the list\n",
    "## O(1)"
   ]
  },
  {
   "cell_type": "code",
   "execution_count": 78,
   "id": "360a06a7",
   "metadata": {},
   "outputs": [],
   "source": [
    "def show_even(_list):\n",
    "    if _list[0] % 2 == 0:\n",
    "        return 'Even'\n",
    "    else:\n",
    "        return 'Odd'\n",
    "    "
   ]
  },
  {
   "cell_type": "code",
   "execution_count": 80,
   "id": "9ef9871f",
   "metadata": {},
   "outputs": [
    {
     "data": {
      "text/plain": [
       "'Even'"
      ]
     },
     "execution_count": 80,
     "metadata": {},
     "output_type": "execute_result"
    }
   ],
   "source": [
    "show_even(b)"
   ]
  },
  {
   "cell_type": "markdown",
   "id": "e3171f4c",
   "metadata": {},
   "source": [
    "## Find the index of specific number in a list\n",
    "## O(logn)"
   ]
  },
  {
   "cell_type": "code",
   "execution_count": 82,
   "id": "71e7e4d6",
   "metadata": {},
   "outputs": [],
   "source": [
    "nums = [1, 4, 7, 10, 14, 17, 22, 47]"
   ]
  },
  {
   "cell_type": "code",
   "execution_count": 85,
   "id": "0ee4831e",
   "metadata": {},
   "outputs": [],
   "source": [
    "def show(lst, elm):\n",
    "    for i in lst:\n",
    "        if i == elm:\n",
    "            return lst.index(i)"
   ]
  },
  {
   "cell_type": "code",
   "execution_count": 86,
   "id": "f2380857",
   "metadata": {},
   "outputs": [
    {
     "data": {
      "text/plain": [
       "5"
      ]
     },
     "execution_count": 86,
     "metadata": {},
     "output_type": "execute_result"
    }
   ],
   "source": [
    "show(nums, 17)"
   ]
  },
  {
   "cell_type": "markdown",
   "id": "ec70f528",
   "metadata": {},
   "source": [
    "## Selected Sort"
   ]
  },
  {
   "cell_type": "markdown",
   "id": "7a203eb7",
   "metadata": {},
   "source": [
    "<img src='https://he-s3.s3.amazonaws.com/media/uploads/2888f5b.png'>"
   ]
  },
  {
   "cell_type": "code",
   "execution_count": 12,
   "id": "898edeba",
   "metadata": {},
   "outputs": [],
   "source": [
    "lst = [7, 5, 4, 9]"
   ]
  },
  {
   "cell_type": "code",
   "execution_count": 13,
   "id": "64d52452",
   "metadata": {},
   "outputs": [],
   "source": [
    "start = time.time()"
   ]
  },
  {
   "cell_type": "code",
   "execution_count": 14,
   "id": "a7140310",
   "metadata": {},
   "outputs": [
    {
     "name": "stdout",
     "output_type": "stream",
     "text": [
      "[5, 7, 4, 9]\n",
      "[4, 7, 5, 9]\n",
      "[4, 7, 5, 9]\n",
      "[4, 5, 7, 9]\n",
      "[4, 5, 7, 9]\n",
      "[4, 5, 7, 9]\n"
     ]
    }
   ],
   "source": [
    "for i in range(len(lst)-1):\n",
    "    _min = i\n",
    "    for j in range(i+1, len(lst)):\n",
    "        if lst[i] > lst[j]:\n",
    "            lst[i], lst[j] = lst[j], lst[i]\n",
    "        print(lst)\n",
    "        \n",
    "    plt.bar(range(len(lst), lst))\n",
    "        "
   ]
  },
  {
   "cell_type": "code",
   "execution_count": 15,
   "id": "feebd33e",
   "metadata": {},
   "outputs": [],
   "source": [
    "end = time.time()"
   ]
  },
  {
   "cell_type": "code",
   "execution_count": 16,
   "id": "15925dfa",
   "metadata": {},
   "outputs": [
    {
     "data": {
      "text/plain": [
       "1.4062049388885498"
      ]
     },
     "execution_count": 16,
     "metadata": {},
     "output_type": "execute_result"
    }
   ],
   "source": [
    "end-start"
   ]
  },
  {
   "cell_type": "markdown",
   "id": "61e491c5",
   "metadata": {},
   "source": [
    "## Bouble Sort : O(n2)"
   ]
  },
  {
   "cell_type": "markdown",
   "id": "9679527b",
   "metadata": {},
   "source": [
    "<img src=\"https://www.w3resource.com/w3r_images/bubble-short.png\" >"
   ]
  },
  {
   "cell_type": "code",
   "execution_count": 3,
   "id": "a73558f9",
   "metadata": {},
   "outputs": [],
   "source": [
    "import random"
   ]
  },
  {
   "cell_type": "code",
   "execution_count": 15,
   "id": "dbfc91d6",
   "metadata": {},
   "outputs": [],
   "source": [
    "# length = 15\n",
    "# _lst = [random.randint(0, length) for i in range(length)]"
   ]
  },
  {
   "cell_type": "code",
   "execution_count": 56,
   "id": "15a40faa",
   "metadata": {},
   "outputs": [],
   "source": [
    "lst = [7, 5, 4, 9, 6, 0, 4, 10, 2]"
   ]
  },
  {
   "cell_type": "code",
   "execution_count": 57,
   "id": "7295da23",
   "metadata": {},
   "outputs": [
    {
     "name": "stdout",
     "output_type": "stream",
     "text": [
      "[0, 2, 4, 4, 5, 6, 7, 9, 10]\n"
     ]
    }
   ],
   "source": [
    "for i in range(len(lst)-1):\n",
    "    flag = True\n",
    "    \n",
    "    for j in range(len(lst) -i -1):\n",
    "        if lst[j] > lst[j+1]:\n",
    "            lst[j], lst[j+1] = lst[j+1], lst[j]\n",
    "            flag = False\n",
    "            \n",
    "    if flag:\n",
    "        break\n",
    "            \n",
    "            \n",
    "print(lst)\n",
    "            "
   ]
  },
  {
   "cell_type": "markdown",
   "id": "d31d0392",
   "metadata": {},
   "source": [
    "## Insertion Sort : O(n^2)"
   ]
  },
  {
   "cell_type": "code",
   "execution_count": 199,
   "id": "e93225e1",
   "metadata": {},
   "outputs": [],
   "source": [
    "from random import shuffle"
   ]
  },
  {
   "cell_type": "code",
   "execution_count": 81,
   "id": "a98cd1a9",
   "metadata": {},
   "outputs": [],
   "source": [
    "length = 10"
   ]
  },
  {
   "cell_type": "code",
   "execution_count": 82,
   "id": "03ca93b3",
   "metadata": {},
   "outputs": [],
   "source": [
    "lst = [random.randint(i, length) for i in range(length)]"
   ]
  },
  {
   "cell_type": "code",
   "execution_count": 83,
   "id": "5b77f615",
   "metadata": {},
   "outputs": [
    {
     "data": {
      "text/plain": [
       "[3, 5, 6, 6, 6, 8, 7, 8, 9, 9]"
      ]
     },
     "execution_count": 83,
     "metadata": {},
     "output_type": "execute_result"
    }
   ],
   "source": [
    "lst"
   ]
  },
  {
   "cell_type": "code",
   "execution_count": 84,
   "id": "4a1d6877",
   "metadata": {},
   "outputs": [],
   "source": [
    "shuffle(lst)"
   ]
  },
  {
   "cell_type": "code",
   "execution_count": 85,
   "id": "00ca38e1",
   "metadata": {},
   "outputs": [
    {
     "data": {
      "text/plain": [
       "[6, 5, 9, 8, 6, 9, 8, 7, 3, 6]"
      ]
     },
     "execution_count": 85,
     "metadata": {},
     "output_type": "execute_result"
    }
   ],
   "source": [
    "lst"
   ]
  },
  {
   "cell_type": "code",
   "execution_count": 135,
   "id": "8b6395e5",
   "metadata": {},
   "outputs": [],
   "source": [
    "lst_1 = [3, 2, 1, 4]"
   ]
  },
  {
   "cell_type": "code",
   "execution_count": 138,
   "id": "1c2b31c8",
   "metadata": {},
   "outputs": [],
   "source": [
    "shuffle(lst_1)"
   ]
  },
  {
   "cell_type": "code",
   "execution_count": 144,
   "id": "9668e672",
   "metadata": {},
   "outputs": [
    {
     "data": {
      "text/plain": [
       "[4, 1, 3, 2]"
      ]
     },
     "execution_count": 144,
     "metadata": {},
     "output_type": "execute_result"
    }
   ],
   "source": [
    "lst_1"
   ]
  },
  {
   "cell_type": "markdown",
   "id": "b3a5bf41",
   "metadata": {},
   "source": [
    "### First Method (space complexity = O(n^2))"
   ]
  },
  {
   "cell_type": "code",
   "execution_count": 147,
   "id": "eb78f1d0",
   "metadata": {},
   "outputs": [],
   "source": [
    "lst_2 = []\n",
    "for i in lst_1:    \n",
    "    for j in range(len(lst_2)):\n",
    "        if i < lst_2[j]:\n",
    "            lst_2.insert(j, i)\n",
    "            break\n",
    "                \n",
    "    else:\n",
    "        lst_2.append(i)\n",
    "        \n",
    "                a"
   ]
  },
  {
   "cell_type": "code",
   "execution_count": 146,
   "id": "0686883f",
   "metadata": {},
   "outputs": [
    {
     "data": {
      "text/plain": [
       "[]"
      ]
     },
     "execution_count": 146,
     "metadata": {},
     "output_type": "execute_result"
    }
   ],
   "source": [
    "lst_2"
   ]
  },
  {
   "cell_type": "markdown",
   "id": "5ae31497",
   "metadata": {},
   "source": [
    "### Second Method (space complexity = O(1))"
   ]
  },
  {
   "cell_type": "markdown",
   "id": "be5bf1cd",
   "metadata": {},
   "source": [
    "<img src='https://miro.medium.com/v2/resize:fit:765/0*1zi2XtjiLXa3LYZh.PNG'>"
   ]
  },
  {
   "cell_type": "code",
   "execution_count": 159,
   "id": "72438fa7",
   "metadata": {},
   "outputs": [],
   "source": [
    "lst_1 = [6, 5, 9, 8, 6, 9, 8, 7, 3, 6]"
   ]
  },
  {
   "cell_type": "code",
   "execution_count": 160,
   "id": "d4000316",
   "metadata": {},
   "outputs": [],
   "source": [
    "for i in range(1, len(lst_1)):\n",
    "    for j in range(i):\n",
    "        if lst_1[i] < lst_1[j]:\n",
    "            temp = lst_1[i]\n",
    "            del lst_1[i]\n",
    "            lst_1.insert(j, temp)\n",
    "            break\n",
    "            "
   ]
  },
  {
   "cell_type": "code",
   "execution_count": 161,
   "id": "717119c9",
   "metadata": {},
   "outputs": [
    {
     "data": {
      "text/plain": [
       "[3, 5, 6, 6, 6, 7, 8, 8, 9, 9]"
      ]
     },
     "execution_count": 161,
     "metadata": {},
     "output_type": "execute_result"
    }
   ],
   "source": [
    "lst_1"
   ]
  },
  {
   "cell_type": "markdown",
   "id": "d48ef12e",
   "metadata": {},
   "source": [
    "## Merg Algorithem"
   ]
  },
  {
   "cell_type": "code",
   "execution_count": 195,
   "id": "a06f88b9",
   "metadata": {},
   "outputs": [],
   "source": [
    "lst1 = [0, 2, 4, 5, 6, 8]\n",
    "lst2 = [0, 1, 2, 2, 8, 9, 13]"
   ]
  },
  {
   "cell_type": "code",
   "execution_count": 196,
   "id": "b405d218",
   "metadata": {},
   "outputs": [],
   "source": [
    "def merge(lst1, lst2):\n",
    "    \n",
    "    lst3 = []    \n",
    "    i = j = 0\n",
    "\n",
    "    while i < len(lst1) and j < len(lst2):\n",
    "        if lst1[i] < lst2[j]:\n",
    "            lst3.append(lst1[i])\n",
    "            i += 1\n",
    "\n",
    "        else:\n",
    "            lst3.append(lst2[j])\n",
    "            j += 1\n",
    "\n",
    "    lst3 += lst1[i:]\n",
    "    lst3 += lst2[j:]\n",
    "    return lst3\n"
   ]
  },
  {
   "cell_type": "code",
   "execution_count": 197,
   "id": "ae7d6cbe",
   "metadata": {},
   "outputs": [
    {
     "data": {
      "text/plain": [
       "[0, 0, 1, 2, 2, 2, 4, 5, 6, 8, 8, 9, 13]"
      ]
     },
     "execution_count": 197,
     "metadata": {},
     "output_type": "execute_result"
    }
   ],
   "source": [
    "merge(lst1, lst2)"
   ]
  },
  {
   "cell_type": "code",
   "execution_count": 201,
   "id": "2a6c5121",
   "metadata": {},
   "outputs": [],
   "source": [
    "_list = [i for i in range(10)]\n",
    "shuffle(_list)"
   ]
  },
  {
   "cell_type": "code",
   "execution_count": 202,
   "id": "93fe13f2",
   "metadata": {},
   "outputs": [
    {
     "data": {
      "text/plain": [
       "[0, 5, 6, 8, 2, 4, 3, 9, 1, 7]"
      ]
     },
     "execution_count": 202,
     "metadata": {},
     "output_type": "execute_result"
    }
   ],
   "source": [
    "_list"
   ]
  },
  {
   "cell_type": "code",
   "execution_count": 203,
   "id": "a132943c",
   "metadata": {},
   "outputs": [],
   "source": [
    "def sort_merge(lst):\n",
    "    \n",
    "    if len(lst) == 1:\n",
    "        return lst\n",
    "    \n",
    "    else:\n",
    "        mid = len(lst) // 2\n",
    "        left = lst[:mid]\n",
    "        right = lst[mid:]\n",
    "        \n",
    "    left = sort_merge(left)\n",
    "    right = sort_merge(right)\n",
    "    \n",
    "    return(merge(left, right))\n",
    "    "
   ]
  },
  {
   "cell_type": "code",
   "execution_count": 204,
   "id": "b7efc495",
   "metadata": {},
   "outputs": [
    {
     "data": {
      "text/plain": [
       "[0, 1, 2, 3, 4, 5, 6, 7, 8, 9]"
      ]
     },
     "execution_count": 204,
     "metadata": {},
     "output_type": "execute_result"
    }
   ],
   "source": [
    "sort_merge(_list)"
   ]
  },
  {
   "cell_type": "code",
   "execution_count": null,
   "id": "8ae72894",
   "metadata": {},
   "outputs": [],
   "source": []
  },
  {
   "cell_type": "code",
   "execution_count": null,
   "id": "02d1e22b",
   "metadata": {},
   "outputs": [],
   "source": []
  },
  {
   "cell_type": "code",
   "execution_count": null,
   "id": "d0381baa",
   "metadata": {},
   "outputs": [],
   "source": []
  },
  {
   "cell_type": "code",
   "execution_count": null,
   "id": "75c61a1a",
   "metadata": {},
   "outputs": [],
   "source": []
  },
  {
   "cell_type": "code",
   "execution_count": null,
   "id": "eafc62ad",
   "metadata": {},
   "outputs": [],
   "source": []
  },
  {
   "cell_type": "code",
   "execution_count": null,
   "id": "969584f8",
   "metadata": {},
   "outputs": [],
   "source": []
  }
 ],
 "metadata": {
  "kernelspec": {
   "display_name": "Python 3 (ipykernel)",
   "language": "python",
   "name": "python3"
  },
  "language_info": {
   "codemirror_mode": {
    "name": "ipython",
    "version": 3
   },
   "file_extension": ".py",
   "mimetype": "text/x-python",
   "name": "python",
   "nbconvert_exporter": "python",
   "pygments_lexer": "ipython3",
   "version": "3.11.7"
  }
 },
 "nbformat": 4,
 "nbformat_minor": 5
}
